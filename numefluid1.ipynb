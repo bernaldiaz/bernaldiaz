{
  "nbformat": 4,
  "nbformat_minor": 0,
  "metadata": {
    "colab": {
      "provenance": [],
      "authorship_tag": "ABX9TyPeDY/Tm/Q7QO3oc7Y10KrC",
      "include_colab_link": true
    },
    "kernelspec": {
      "name": "python3",
      "display_name": "Python 3"
    },
    "language_info": {
      "name": "python"
    }
  },
  "cells": [
    {
      "cell_type": "markdown",
      "metadata": {
        "id": "view-in-github",
        "colab_type": "text"
      },
      "source": [
        "<a href=\"https://colab.research.google.com/github/bernaldiaz/bernaldiaz/blob/main/numefluid1.ipynb\" target=\"_parent\"><img src=\"https://colab.research.google.com/assets/colab-badge.svg\" alt=\"Open In Colab\"/></a>"
      ]
    },
    {
      "cell_type": "markdown",
      "source": [
        " A script to set up and solve the 1D diffusion equation for conduction\n",
        "#\tin a bar\n",
        "#\n",
        "#\t[Chapter 2]\n",
        "#\n",
        "#\tAuthor: Dr. Aidan Wimshurst (FluidMechanics101)\n",
        "#\n",
        "#\t- Email: FluidMechanics101@gmail.com\n",
        "#\t- Web  : https://www.fluidmechanics101.com\n",
        "#\t- YouTube: Fluid Mechanics 101\n",
        "#\n",
        "#\tVersion 1.0.0 11/05/2019"
      ],
      "metadata": {
        "id": "JkUfAwH4ZXLu"
      }
    },
    {
      "cell_type": "code",
      "source": [
        "import numpy\n",
        "import matplotlib.pyplot as plt"
      ],
      "metadata": {
        "id": "RDKLqwn3Zno1"
      },
      "execution_count": 30,
      "outputs": []
    },
    {
      "cell_type": "code",
      "execution_count": 31,
      "metadata": {
        "id": "twUYd3eAZU1v"
      },
      "outputs": [],
      "source": [
        "# Thermal Conductivity of the bar (W/mK)\n",
        "cond = 100\n",
        "\n",
        "# Cross-sectional Area of the bar (m2)\n",
        "area = 0.1\n",
        "\n",
        "# Length of the bar (m)\n",
        "barLength = 5\n",
        "\n",
        "# Number of cells in the mesh\n",
        "nCells = 5\n",
        "\n",
        "# Temperature at the left hand side of the bar (deg C)\n",
        "tempLeft = 100\n",
        "\n",
        "# Temperature at the left hand side of the bar (deg C)\n",
        "tempRight = 200"
      ]
    },
    {
      "cell_type": "code",
      "source": [
        "# Heat source per unit volume (W/m3)\n",
        "heatSourcePerVol = 1000\n",
        "\n",
        "# Plot the data?\n",
        "plotOutput = 'true'\n",
        "\n",
        "# Print the set up data? (table of coefficients and matrices)\n",
        "printSetup = 'true'\n",
        "\n",
        "# Print the solution output (the temperature vector)\n",
        "printSolution = 'true'\n"
      ],
      "metadata": {
        "id": "huFNVxUqaYmv"
      },
      "execution_count": 32,
      "outputs": []
    },
    {
      "cell_type": "code",
      "source": [
        "# ============================================================================\n",
        "# Code Begins Here\n",
        "# ============================================================================\n"
      ],
      "metadata": {
        "id": "1SfRQL6XarjM"
      },
      "execution_count": 33,
      "outputs": []
    },
    {
      "cell_type": "code",
      "source": [
        "print ('================================================')\n",
        "print ('')\n",
        "print ('   solve1DDiffusionEquation.py')\n",
        "print ('')\n",
        "print (' - Fluid Mechanics 101')\n",
        "print (' - Author: Dr. Aidan Wimshurst')\n",
        "print (' - Contact: FluidMechanics101@gmail.com')\n",
        "print ('')\n",
        "print (' [Exercise 1: Chapter 1]')\n",
        "print ('================================================')\n"
      ],
      "metadata": {
        "colab": {
          "base_uri": "https://localhost:8080/"
        },
        "id": "JpnDiVkNaz7E",
        "outputId": "7d8e64ae-f91f-4702-c9df-90fd6528e134"
      },
      "execution_count": 34,
      "outputs": [
        {
          "output_type": "stream",
          "name": "stdout",
          "text": [
            "================================================\n",
            "\n",
            "   solve1DDiffusionEquation.py\n",
            "\n",
            " - Fluid Mechanics 101\n",
            " - Author: Dr. Aidan Wimshurst\n",
            " - Contact: FluidMechanics101@gmail.com\n",
            "\n",
            " [Exercise 1: Chapter 1]\n",
            "================================================\n"
          ]
        }
      ]
    },
    {
      "cell_type": "code",
      "source": [
        "###############################################################################\n",
        "#\n",
        "# \tCreate the mesh of cells\n",
        "#\n",
        "###############################################################################\n",
        "\n",
        "print ('------------------------------------------------')\n",
        "print (' Creating Mesh')\n",
        "print ('------------------------------------------------')\n"
      ],
      "metadata": {
        "colab": {
          "base_uri": "https://localhost:8080/"
        },
        "id": "f1p76DbZbExO",
        "outputId": "1c286d2e-dc77-4fb8-9a50-1431250416cf"
      },
      "execution_count": 35,
      "outputs": [
        {
          "output_type": "stream",
          "name": "stdout",
          "text": [
            "------------------------------------------------\n",
            " Creating Mesh\n",
            "------------------------------------------------\n"
          ]
        }
      ]
    },
    {
      "cell_type": "code",
      "source": [
        "# Start by calculating the coordinates of the cell faces\n",
        "xFaces = numpy.linspace(0, barLength, nCells+1)\n",
        "\n",
        "# Calculate the coordinates of the cell centroids\n",
        "xCentroids = 0.5*(xFaces[1:] + xFaces[0:-1])"
      ],
      "metadata": {
        "id": "jMbFiw2xbZ-F"
      },
      "execution_count": 36,
      "outputs": []
    },
    {
      "cell_type": "code",
      "source": [
        "# Calculate the length of each cell\n",
        "cellLength = xFaces[1:] - xFaces[0:-1]\n",
        "\n",
        "# Calculate the distance between cell centroids\n",
        "dCentroids = xCentroids[1:] - xCentroids[0:-1]"
      ],
      "metadata": {
        "id": "5uYnbRbib8od"
      },
      "execution_count": 37,
      "outputs": []
    },
    {
      "cell_type": "code",
      "source": [
        "# For the boundary cell on the left, the distance is double the distance\n",
        "# from the cell centroid to the boundary face\n",
        "dLeft = 2*(xCentroids[0] - xFaces[0])\n",
        "\n",
        "# For the boundary cell on the right, the distance is double the distance from\n",
        "# the cell centroid to the boundary cell face\n",
        "dRight = 2*(xFaces[-1] - xCentroids[-1])"
      ],
      "metadata": {
        "id": "bf3Y17Z_cAmM"
      },
      "execution_count": 38,
      "outputs": []
    },
    {
      "cell_type": "code",
      "source": [
        "# Append these to the vector of distances\n",
        "dCentroids = numpy.hstack([dLeft, dCentroids, dRight])\n",
        "\n",
        "# Compute the cell volume\n",
        "cellVolumes = cellLength*area"
      ],
      "metadata": {
        "id": "PrXwu-_DcVa0"
      },
      "execution_count": 39,
      "outputs": []
    },
    {
      "cell_type": "code",
      "source": [
        "###############################################################################\n",
        "#\n",
        "# \tCalculate the Matrix Coefficients\n",
        "#\n",
        "###############################################################################\n"
      ],
      "metadata": {
        "id": "04hlF14eceM-"
      },
      "execution_count": 40,
      "outputs": []
    },
    {
      "cell_type": "code",
      "source": [
        "print ('------------------------------------------------')\n",
        "print (' Calculating Matrix Coefficients')\n",
        "print ('------------------------------------------------')\n",
        "\n",
        "# Diffusive flux per unit area\n",
        "DA = area*numpy.divide(cond, dCentroids)\n",
        "\n",
        "# Calculate the source term Sp\n",
        "Sp = numpy.zeros(nCells)\n",
        "\n",
        "# Assign sources to the left and right hand boundaries\n",
        "Sp[0] = -2.0*numpy.copy(DA[0])\n",
        "Sp[-1] = -2.0*numpy.copy(DA[-1])\n"
      ],
      "metadata": {
        "colab": {
          "base_uri": "https://localhost:8080/"
        },
        "id": "7juyl-tOciNM",
        "outputId": "4df67aed-2723-4bd8-f205-d2b32cf2d5bd"
      },
      "execution_count": 41,
      "outputs": [
        {
          "output_type": "stream",
          "name": "stdout",
          "text": [
            "------------------------------------------------\n",
            " Calculating Matrix Coefficients\n",
            "------------------------------------------------\n"
          ]
        }
      ]
    },
    {
      "cell_type": "code",
      "source": [
        "# Calculate the source term Su\n",
        "Su = heatSourcePerVol*cellVolumes\n",
        "\n",
        "# Assign sources to the left and right hand boundaries\n",
        "Su[0] = Su[0] + 2.0*numpy.copy(DA[0])*tempLeft\n",
        "Su[-1] = Su[-1] + 2.0*numpy.copy(DA[-1])*tempRight\n",
        "\n",
        "# Left Coefficient (aL)\n",
        "aL = numpy.copy(DA[0:-1])\n",
        "\n",
        "# Right Coefficient (aR)\n",
        "aR = numpy.copy(DA[1:])"
      ],
      "metadata": {
        "id": "-YV6VIB6cwbE"
      },
      "execution_count": 42,
      "outputs": []
    },
    {
      "cell_type": "code",
      "source": [
        "# Set the first element of aL to zero. It is a boundary face\n",
        "aL[0] = 0\n",
        "\n",
        "# Set the last element of aR to zero. It is a boundary face\n",
        "aR[-1] = 0\n",
        "\n",
        "# Create the central coefficients\n",
        "aP = numpy.copy(aL) + numpy.copy(aR) - numpy.copy(Sp)\n"
      ],
      "metadata": {
        "id": "W3-ljlN2c_Qm"
      },
      "execution_count": 43,
      "outputs": []
    },
    {
      "cell_type": "code",
      "source": [
        "###############################################################################\n",
        "#\n",
        "# \tCreate the matrices\n",
        "#\n",
        "###############################################################################\n",
        "\n",
        "print ('------------------------------------------------')\n",
        "print (' Assembling Matrices')\n",
        "print ('------------------------------------------------')\n",
        "\n",
        "# Start by creating an empty A matrix and an empty B matrix\n",
        "Amatrix = numpy.zeros([nCells, nCells])\n",
        "BVector = numpy.zeros(nCells)\n"
      ],
      "metadata": {
        "colab": {
          "base_uri": "https://localhost:8080/"
        },
        "id": "33cJ4ceLdTbk",
        "outputId": "8976011e-7f92-4229-aa89-96419e033d70"
      },
      "execution_count": 44,
      "outputs": [
        {
          "output_type": "stream",
          "name": "stdout",
          "text": [
            "------------------------------------------------\n",
            " Assembling Matrices\n",
            "------------------------------------------------\n"
          ]
        }
      ]
    },
    {
      "cell_type": "code",
      "source": [
        "# Populate the matrix one row at a time (i.e one cell at a time)\n",
        "\n",
        "#\n",
        "# NOTE: this method is deliberately inefficient for this problem\n",
        "#\t\tbut it is useful for learning purposes. We could populate the\n",
        "#\t\tdiagonals and the off-diagonals directly.\n"
      ],
      "metadata": {
        "id": "CbjOe6ZzdloF"
      },
      "execution_count": 45,
      "outputs": []
    },
    {
      "cell_type": "code",
      "source": [
        "for i in range(nCells):\n",
        "\n",
        "\t# Do the A matrix Coefficients\n",
        "\n",
        "\t# Left boundary Cell\n",
        "\tif (i == 0):\n",
        "\n",
        "\t\tAmatrix[i,i] = aP[i]\n",
        "\t\tAmatrix[i,i+1] = -1.0*aR[i]\n",
        "    # Right Boundary Cell\n",
        "\telif(i == nCells-1):\n",
        "\n",
        "\t\tAmatrix[i, i-1] = -1.0*aL[i]\n",
        "\t\tAmatrix[i,i] = aP[i]\n",
        "\n",
        "\t# Interior Cells\n",
        "\telse:\n",
        "\n",
        "\t\tAmatrix[i, i-1] = -1.0*aL[i]\n",
        "\t\tAmatrix[i,i] = aP[i]\n",
        "\t\tAmatrix[i,i+1] = -1.0*aR[i]\n",
        "\n",
        "\t# Do the B matrix coefficients\n",
        "\tBVector[i] = Su[i]\n"
      ],
      "metadata": {
        "id": "a6bEOcTldsJl"
      },
      "execution_count": 46,
      "outputs": []
    },
    {
      "cell_type": "code",
      "source": [
        "###############################################################################\n",
        "#\n",
        "# \tPrint the setup\n",
        "#\n",
        "###############################################################################\n",
        "\n",
        "if (printSetup == 'true'):\n",
        "\n",
        "\tprint ('------------------------------------------------')\n",
        "\tprint (' Summary: Set Up')\n",
        "\tprint ('------------------------------------------------')\n",
        "\tprint ('aL:')\n",
        "\tprint (aL)\n",
        "\tprint ('aR:')\n",
        "\tprint (aR)\n",
        "\tprint ('aP:')\n",
        "\tprint (aP)\n",
        "\tprint ('Sp:')\n",
        "\tprint (Sp)\n",
        "\tprint ('Su:')\n",
        "\tprint (Su)\n",
        "\tprint ('A matrix:')\n",
        "\tprint (Amatrix)\n",
        "\tprint ('B vector')\n",
        "\tprint (BVector)\n",
        "\n",
        "###############################################################################"
      ],
      "metadata": {
        "colab": {
          "base_uri": "https://localhost:8080/"
        },
        "id": "T7yNc6XUeQJO",
        "outputId": "dc719272-0e35-4648-c3ad-b58ebbd50481"
      },
      "execution_count": 47,
      "outputs": [
        {
          "output_type": "stream",
          "name": "stdout",
          "text": [
            "------------------------------------------------\n",
            " Summary: Set Up\n",
            "------------------------------------------------\n",
            "aL:\n",
            "[ 0. 10. 10. 10. 10.]\n",
            "aR:\n",
            "[10. 10. 10. 10.  0.]\n",
            "aP:\n",
            "[30. 20. 20. 20. 30.]\n",
            "Sp:\n",
            "[-20.   0.   0.   0. -20.]\n",
            "Su:\n",
            "[2100.  100.  100.  100. 4100.]\n",
            "A matrix:\n",
            "[[ 30. -10.   0.   0.   0.]\n",
            " [-10.  20. -10.   0.   0.]\n",
            " [  0. -10.  20. -10.   0.]\n",
            " [  0.   0. -10.  20. -10.]\n",
            " [  0.   0.   0. -10.  30.]]\n",
            "B vector\n",
            "[2100.  100.  100.  100. 4100.]\n"
          ]
        }
      ]
    },
    {
      "cell_type": "code",
      "source": [
        "###############################################################################\n",
        "#\n",
        "# \tSolve the matrices\n",
        "#\n",
        "###############################################################################\n",
        "\n",
        "print ('------------------------------------------------')\n",
        "print (' Solving ...')\n",
        "print ('------------------------------------------------')\n",
        "\n",
        "# Use the built-in python solution module\n",
        "Tvector = numpy.linalg.solve(Amatrix, BVector)\n",
        "\n",
        "print ('------------------------------------------------')\n",
        "print (' Equations Solved')\n",
        "print ('------------------------------------------------')"
      ],
      "metadata": {
        "colab": {
          "base_uri": "https://localhost:8080/"
        },
        "id": "Qf-yjUnaejfH",
        "outputId": "41895844-bc7b-4204-8596-3a0652f46f33"
      },
      "execution_count": 48,
      "outputs": [
        {
          "output_type": "stream",
          "name": "stdout",
          "text": [
            "------------------------------------------------\n",
            " Solving ...\n",
            "------------------------------------------------\n",
            "------------------------------------------------\n",
            " Equations Solved\n",
            "------------------------------------------------\n"
          ]
        }
      ]
    },
    {
      "cell_type": "code",
      "source": [
        "###############################################################################\n",
        "#\n",
        "# \tPrint the Results\n",
        "#\n",
        "###############################################################################\n",
        "\n",
        "if (printSolution == 'true'):\n",
        "\n",
        "\tprint ('------------------------------------------------')\n",
        "\tprint (' Solution: Temperature Vector')\n",
        "\tprint ('------------------------------------------------')\n",
        "\tprint (Tvector)\n"
      ],
      "metadata": {
        "colab": {
          "base_uri": "https://localhost:8080/"
        },
        "id": "Kob9d9SsezzF",
        "outputId": "c708ccb6-590d-4264-8eee-f19ddf02c952"
      },
      "execution_count": 49,
      "outputs": [
        {
          "output_type": "stream",
          "name": "stdout",
          "text": [
            "------------------------------------------------\n",
            " Solution: Temperature Vector\n",
            "------------------------------------------------\n",
            "[122.5 157.5 182.5 197.5 202.5]\n"
          ]
        }
      ]
    },
    {
      "cell_type": "code",
      "source": [
        "# Plot the data if desired\n",
        "if (plotOutput  =='true'):\n",
        "\n",
        "\tprint ('------------------------------------------------')\n",
        "\tprint (' Plotting ...')\n",
        "\tprint ('------------------------------------------------')\n",
        "\n",
        "\t# Append the boundary temperature values to the vector, so we can\n",
        "\t# plot the complete solution\n",
        "\txPlotting = numpy.hstack([xFaces[0], numpy.copy(xCentroids), xFaces[-1]])\n",
        "\ttemperaturePlotting = numpy.hstack([tempLeft, numpy.copy(Tvector), tempRight])\n",
        "\n",
        "\t# Assemble the analytical solution for comparison\n",
        "\t#xAnalytical = numpy.linspace(0, barLength, 100)\n",
        "\t#temperatureAnalytical = (tempLeft + ((tempRight - tempLeft)*\n",
        "\t#\t(xAnalytical/barLength)) +\n",
        "\t#\t(heatSourcePerVol/(2.0*cond))*xAnalytical*(barLength*numpy.ones(len(xAnalytical))\n",
        "\t#\t- xAnalytical))\n",
        "  # Configure the plot to look how you want\n",
        "\tfontSize = 14\n",
        "\tfontSizeLegend = 14\n",
        "\tlineWidth = 2.0\n",
        "\ttickPad = 8\n",
        "\ttickPad2 = 16\n",
        "\tlabelPadY = 10\n",
        "\tlabelPadX = 8\n",
        "\tboxPad = 5\n",
        "\tdarkBlue = (0.0,0.129,0.2784)\n",
        "\tdarkRed = (0.7176, 0.0705, 0.207)\n",
        "  # plt.rc('text', usetex=True)\n",
        "\n",
        "\n",
        "\n"
      ],
      "metadata": {
        "colab": {
          "base_uri": "https://localhost:8080/"
        },
        "id": "66SGHAfCe4-V",
        "outputId": "cb69208b-78f6-438a-ff9b-e5a33573e976"
      },
      "execution_count": 72,
      "outputs": [
        {
          "output_type": "stream",
          "name": "stdout",
          "text": [
            "------------------------------------------------\n",
            " Plotting ...\n",
            "------------------------------------------------\n"
          ]
        }
      ]
    },
    {
      "cell_type": "code",
      "source": [
        "\n",
        "\n",
        "#if (plotOutput  =='true'):\n",
        "# plt.rc('text', usetex=True)\n",
        " # plt.rc('font', family='serif')\n",
        "\t#plt.rcParams[\"figure.figsize\"] = (6.2,4.2)\n",
        "\t#plt.rcParams['axes.linewidth'] = lineWidth\n",
        "fig1 = plt.figure(1)\n",
        "ax = fig1.add_subplot(111)\n",
        "fig1.tight_layout(pad=boxPad)\n",
        "ax.plot(xPlotting , temperaturePlotting, 'bo',\n",
        "linewidth = lineWidth, label='CFD', color=darkBlue)\n",
        "#ax.plot(xAnalytical, temperatureAnalytical, 'k--',\n",
        "#linewidth = lineWidth, label = 'Analytical', color=darkBlue)\n",
        "plt.xlabel(r'$x$ [m]', fontsize=fontSize, labelpad = labelPadX)\n",
        "plt.ylabel(r'$T$ [$^{\\circ}$ C]', fontsize=fontSize, labelpad = labelPadY)\n",
        "plt.yticks(fontsize = fontSize)\n",
        "plt.xticks(fontsize = fontSize)\n",
        "plt.xlim([xFaces[0], xFaces[-1]])\n",
        "\n",
        "leg = plt.legend(fontsize = fontSizeLegend, loc='best', fancybox=False,\n",
        "\t\tedgecolor = 'k')\n",
        "leg.get_frame().set_linewidth(lineWidth)\n",
        "ax.tick_params(which = 'both', direction='in', length=6,\n",
        "\t\twidth=lineWidth, gridOn = False)\n",
        "ax.yaxis.set_ticks_position('both')\n",
        "ax.xaxis.set_ticks_position('both')\n",
        "ax.tick_params(pad=tickPad)\n",
        "plt.show()"
      ],
      "metadata": {
        "colab": {
          "base_uri": "https://localhost:8080/",
          "height": 467
        },
        "id": "qShcso1Qjg1l",
        "outputId": "275f25b6-e1f2-4e54-dd7f-6dbe1afe781e"
      },
      "execution_count": 79,
      "outputs": [
        {
          "output_type": "stream",
          "name": "stderr",
          "text": [
            "<ipython-input-79-c97930824ae3>:9: UserWarning: color is redundantly defined by the 'color' keyword argument and the fmt string \"bo\" (-> color='b'). The keyword argument will take precedence.\n",
            "  ax.plot(xPlotting , temperaturePlotting, 'bo',\n"
          ]
        },
        {
          "output_type": "display_data",
          "data": {
            "text/plain": [
              "<Figure size 640x480 with 1 Axes>"
            ],
            "image/png": "[encoded data removed]"
          },
          "metadata": {}
        }
      ]
    }
  ]
}
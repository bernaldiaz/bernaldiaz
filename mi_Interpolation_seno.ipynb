{
  "cells": [
    {
      "cell_type": "markdown",
      "metadata": {
        "id": "view-in-github",
        "colab_type": "text"
      },
      "source": [
        "<a href=\"https://colab.research.google.com/github/bernaldiaz/bernaldiaz/blob/main/mi_Interpolation_seno.ipynb\" target=\"_parent\"><img src=\"https://colab.research.google.com/assets/colab-badge.svg\" alt=\"Open In Colab\"/></a>"
      ]
    },
    {
      "cell_type": "markdown",
      "id": "e49ad235",
      "metadata": {
        "id": "e49ad235"
      },
      "source": [
        "# Interpolation of data\n",
        "- Angel Martin"
      ]
    },
    {
      "cell_type": "code",
      "execution_count": 1,
      "id": "9a5970cf",
      "metadata": {
        "id": "9a5970cf"
      },
      "outputs": [],
      "source": [
        "import numpy as np\n",
        "import matplotlib.pyplot as plt"
      ]
    },
    {
      "cell_type": "code",
      "execution_count": 3,
      "id": "56b71cbb",
      "metadata": {
        "id": "56b71cbb"
      },
      "outputs": [],
      "source": [
        "#np.random.seed(0)"
      ]
    },
    {
      "cell_type": "markdown",
      "id": "9c44bbf6",
      "metadata": {
        "id": "9c44bbf6"
      },
      "source": [
        "## 1. Generate data points"
      ]
    },
    {
      "cell_type": "code",
      "execution_count": 34,
      "id": "4bd36ffd",
      "metadata": {
        "id": "4bd36ffd"
      },
      "outputs": [],
      "source": [
        "x_list = np.linspace(0,2*np.pi,100)\n",
        "data0 = np.array([x_list, np.sin(x_list)])\n",
        "data = np.array([data0[0]  , data0[1]])"
      ]
    },
    {
      "cell_type": "code",
      "source": [
        "print(x_list)"
      ],
      "metadata": {
        "colab": {
          "base_uri": "https://localhost:8080/"
        },
        "id": "Xz6pAbARBwz4",
        "outputId": "e3a3cd09-4160-48ba-8137-8fef8b0172ad"
      },
      "id": "Xz6pAbARBwz4",
      "execution_count": 5,
      "outputs": [
        {
          "output_type": "stream",
          "name": "stdout",
          "text": [
            "[-5.  -4.5 -4.  -3.5 -3.  -2.5 -2.  -1.5 -1.  -0.5  0.   0.5  1.   1.5\n",
            "  2.   2.5  3.   3.5  4.   4.5  5. ]\n"
          ]
        }
      ]
    },
    {
      "cell_type": "code",
      "source": [
        "print(data0[0])"
      ],
      "metadata": {
        "colab": {
          "base_uri": "https://localhost:8080/"
        },
        "id": "cT6gBVnfCMP0",
        "outputId": "192bc994-3035-461a-aa3d-3f89cbf98bba"
      },
      "id": "cT6gBVnfCMP0",
      "execution_count": 17,
      "outputs": [
        {
          "output_type": "stream",
          "name": "stdout",
          "text": [
            "[0.         0.34906585 0.6981317  1.04719755 1.3962634  1.74532925\n",
            " 2.0943951  2.44346095 2.7925268  3.14159265]\n"
          ]
        }
      ]
    },
    {
      "cell_type": "code",
      "execution_count": 35,
      "id": "d63ae651",
      "metadata": {
        "colab": {
          "base_uri": "https://localhost:8080/",
          "height": 466
        },
        "id": "d63ae651",
        "outputId": "d9736152-2c1a-4c55-833b-ce45aa86d3df"
      },
      "outputs": [
        {
          "output_type": "execute_result",
          "data": {
            "text/plain": [
              "<matplotlib.collections.PathCollection at 0x7c949daf3850>"
            ]
          },
          "metadata": {},
          "execution_count": 35
        },
        {
          "output_type": "display_data",
          "data": {
            "text/plain": [
              "<Figure size 640x480 with 1 Axes>"
            ],
            "image/png": "[encoded data removed]"
          },
          "metadata": {}
        }
      ],
      "source": [
        "plt.xlabel('x')\n",
        "plt.ylabel('y')\n",
        "plt.scatter(data[0], data[1])"
      ]
    },
    {
      "cell_type": "markdown",
      "id": "3bab25d9",
      "metadata": {
        "id": "3bab25d9"
      },
      "source": [
        "## 2. Fitting a model function"
      ]
    },
    {
      "cell_type": "markdown",
      "id": "3a6ef777",
      "metadata": {
        "id": "3a6ef777"
      },
      "source": [
        "Finding parameters of a model function such that error is minimized."
      ]
    },
    {
      "cell_type": "markdown",
      "id": "f3354650",
      "metadata": {
        "id": "f3354650"
      },
      "source": [
        "### 2.1 Define model function"
      ]
    },
    {
      "cell_type": "markdown",
      "id": "3ee68e24",
      "metadata": {
        "id": "3ee68e24"
      },
      "source": [
        "We consider a polynomial: \\\\( f(x) = a_0 + a_1 x + a_2 x^2 + a_3 x^3\\\\)"
      ]
    },
    {
      "cell_type": "code",
      "execution_count": 19,
      "id": "5dfbbf96",
      "metadata": {
        "id": "5dfbbf96"
      },
      "outputs": [],
      "source": [
        "def polinomialModel(x, a):\n",
        "  return a[0]+a[1]*x+a[2]*x**2+a[3]*x**3"
      ]
    },
    {
      "cell_type": "markdown",
      "id": "5ed1a360",
      "metadata": {
        "id": "5ed1a360"
      },
      "source": [
        "Let's test our new function"
      ]
    },
    {
      "cell_type": "code",
      "execution_count": 29,
      "id": "f233e9a5",
      "metadata": {
        "colab": {
          "base_uri": "https://localhost:8080/",
          "height": 465
        },
        "id": "f233e9a5",
        "outputId": "0eb8848f-3baf-4155-d1d0-54de92efa1e5"
      },
      "outputs": [
        {
          "output_type": "stream",
          "name": "stdout",
          "text": [
            "[-0.70728218  0.15076992  0.65724615  0.91310068]\n"
          ]
        },
        {
          "output_type": "execute_result",
          "data": {
            "text/plain": [
              "[<matplotlib.lines.Line2D at 0x7c949db714e0>]"
            ]
          },
          "metadata": {},
          "execution_count": 29
        },
        {
          "output_type": "display_data",
          "data": {
            "text/plain": [
              "<Figure size 640x480 with 1 Axes>"
            ],
            "image/png": "[encoded data removed]"
          },
          "metadata": {}
        }
      ],
      "source": [
        "# Starting values for the coefficients\n",
        "a = 2*np.random.rand(4)-1\n",
        "print(a)\n",
        "\n",
        "plt.plot(x_list, polinomialModel(x_list,a))"
      ]
    },
    {
      "cell_type": "markdown",
      "id": "74701646",
      "metadata": {
        "id": "74701646"
      },
      "source": [
        "### 2.2 Update coefficients to reduce the error (gradient descent)"
      ]
    },
    {
      "cell_type": "markdown",
      "id": "c1274500",
      "metadata": {
        "id": "c1274500"
      },
      "source": [
        "We can use several different methods to minimize the error, e. g. a Monte-Carlo algorithm. Here, we will use the gradient descent method. The coefficients \\\\( a_i \\\\) will be updated along the gradient direction of the error function \\\\( \\nabla_{\\vec{a}} \\Delta\\\\). The gradient consists of elements \\\\( \\frac{\\partial}{\\partial a_k} \\Delta = 2 \\sum_{i=1}^n \\left(f(x_i)-y_i\\right) \\frac{\\partial}{\\partial a_k}f(x_i) = 2 \\sum_{i=1}^n \\left(f(x_i)-y_i\\right) x_i^{k}\\\\)\n",
        "\n",
        "Remember: \\\\( \\Delta = \\sum_{i=1}^n \\left(f(x_i)-y_i\\right)^2 = \\sum_{i=1}^n \\left(a_0 + a_1 x_i + a_2 x_i^2 + \\dots + a_n x_i^n-y_i\\right)^2 \\\\)"
      ]
    },
    {
      "cell_type": "code",
      "execution_count": 8,
      "id": "18d3c998",
      "metadata": {
        "id": "18d3c998"
      },
      "outputs": [],
      "source": [
        "#Esta funcion necesita modificarse para incluir k\n",
        "#def errorFitGradient(f,coefficients,data):\n",
        "# return 2*sum((f(data[0,:],coefficients) - data[1,:])*data[0,:]**k)"
      ]
    },
    {
      "cell_type": "code",
      "execution_count": 21,
      "id": "6b431e76",
      "metadata": {
        "id": "6b431e76"
      },
      "outputs": [],
      "source": [
        "def errorFitGradient(f,coefficients,data):\n",
        "  return 2 * np.array([\n",
        "      np.sum((f(data[0,:],coefficients) - data[1,:])*data[0,:]**k)\n",
        "    for k in range(4)])"
      ]
    },
    {
      "cell_type": "code",
      "source": [
        "errorFitGradient(polinomialModel, a, data)"
      ],
      "metadata": {
        "colab": {
          "base_uri": "https://localhost:8080/"
        },
        "id": "33hm0TDHMrkf",
        "outputId": "7d43e74c-0e4d-4e18-864f-48f55fe66790"
      },
      "id": "33hm0TDHMrkf",
      "execution_count": 36,
      "outputs": [
        {
          "output_type": "execute_result",
          "data": {
            "text/plain": [
              "array([  -445.09584874,  -2442.10804949, -13584.79817977, -76489.50942954])"
            ]
          },
          "metadata": {},
          "execution_count": 36
        }
      ]
    },
    {
      "cell_type": "markdown",
      "id": "23fb3610",
      "metadata": {
        "id": "23fb3610"
      },
      "source": [
        "### 2.3 Loop for the actual fitting"
      ]
    },
    {
      "cell_type": "code",
      "execution_count": 37,
      "id": "32883400",
      "metadata": {
        "id": "32883400"
      },
      "outputs": [],
      "source": [
        "iterations = 100000\n",
        "# learning rate\n",
        "h = 0.00001"
      ]
    },
    {
      "cell_type": "code",
      "execution_count": 38,
      "id": "97a8913d",
      "metadata": {
        "colab": {
          "base_uri": "https://localhost:8080/"
        },
        "id": "97a8913d",
        "outputId": "000e2a25-4fc3-4de5-c87f-92636dcf3a7b"
      },
      "outputs": [
        {
          "output_type": "stream",
          "name": "stderr",
          "text": [
            "/usr/local/lib/python3.10/dist-packages/numpy/core/fromnumeric.py:86: RuntimeWarning: overflow encountered in reduce\n",
            "  return ufunc.reduce(obj, axis, dtype, out, **passkwargs)\n",
            "<ipython-input-21-f6acafe90efb>:2: RuntimeWarning: overflow encountered in multiply\n",
            "  return 2 * np.array([\n",
            "<ipython-input-19-489616bd711f>:2: RuntimeWarning: invalid value encountered in multiply\n",
            "  return a[0]+a[1]*x+a[2]*x**2+a[3]*x**3\n"
          ]
        }
      ],
      "source": [
        "for i in range(iterations):\n",
        "  a = a - h * errorFitGradient(polinomialModel,a, data)"
      ]
    },
    {
      "cell_type": "code",
      "source": [
        "plt.scatter(data[0], data[1])\n",
        "plt.plot(x_list, polinomialModel(x_list,a))"
      ],
      "metadata": {
        "colab": {
          "base_uri": "https://localhost:8080/",
          "height": 447
        },
        "id": "IlT5m8LgP4Wu",
        "outputId": "ce3909d3-2370-4a67-b9d4-d16810a1aaa6"
      },
      "id": "IlT5m8LgP4Wu",
      "execution_count": 39,
      "outputs": [
        {
          "output_type": "execute_result",
          "data": {
            "text/plain": [
              "[<matplotlib.lines.Line2D at 0x7c949d987ac0>]"
            ]
          },
          "metadata": {},
          "execution_count": 39
        },
        {
          "output_type": "display_data",
          "data": {
            "text/plain": [
              "<Figure size 640x480 with 1 Axes>"
            ],
            "image/png": "[encoded data removed]"
          },
          "metadata": {}
        }
      ]
    },
    {
      "cell_type": "markdown",
      "id": "56aa6d5e",
      "metadata": {
        "id": "56aa6d5e"
      },
      "source": [
        "\\\\( f(x) = a_0 + a_1 x + a_2 x^2 + a_3 x^3\\\\) with parameters:"
      ]
    },
    {
      "cell_type": "code",
      "execution_count": 26,
      "id": "707bb6bb",
      "metadata": {
        "colab": {
          "base_uri": "https://localhost:8080/"
        },
        "id": "707bb6bb",
        "outputId": "eb6d445c-8472-482f-fee3-50072326fdd1"
      },
      "outputs": [
        {
          "output_type": "stream",
          "name": "stdout",
          "text": [
            "[ 0.22688435  0.32564603  0.29179993 -0.13699197]\n"
          ]
        }
      ],
      "source": [
        "print(a)"
      ]
    }
  ],
  "metadata": {
    "kernelspec": {
      "display_name": "Python 3 (ipykernel)",
      "language": "python",
      "name": "python3"
    },
    "language_info": {
      "codemirror_mode": {
        "name": "ipython",
        "version": 3
      },
      "file_extension": ".py",
      "mimetype": "text/x-python",
      "name": "python",
      "nbconvert_exporter": "python",
      "pygments_lexer": "ipython3",
      "version": "3.9.7"
    },
    "colab": {
      "provenance": [],
      "include_colab_link": true
    }
  },
  "nbformat": 4,
  "nbformat_minor": 5
}
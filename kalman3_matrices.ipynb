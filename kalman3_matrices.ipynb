{
  "nbformat": 4,
  "nbformat_minor": 0,
  "metadata": {
    "colab": {
      "provenance": [],
      "authorship_tag": "ABX9TyNga3ygbk1VZEQ7A+zUhGBr",
      "include_colab_link": true
    },
    "kernelspec": {
      "name": "python3",
      "display_name": "Python 3"
    },
    "language_info": {
      "name": "python"
    }
  },
  "cells": [
    {
      "cell_type": "markdown",
      "metadata": {
        "id": "view-in-github",
        "colab_type": "text"
      },
      "source": [
        "<a href=\"https://colab.research.google.com/github/bernaldiaz/bernaldiaz/blob/main/kalman3_matrices.ipynb\" target=\"_parent\"><img src=\"https://colab.research.google.com/assets/colab-badge.svg\" alt=\"Open In Colab\"/></a>"
      ]
    },
    {
      "cell_type": "markdown",
      "source": [
        "Calculo de las matrices para Nearly Constant Velocity Model\n"
      ],
      "metadata": {
        "id": "tDYSjN_HxVHI"
      }
    },
    {
      "cell_type": "code",
      "source": [],
      "metadata": {
        "id": "sdAl-C8ibW2p"
      },
      "execution_count": null,
      "outputs": []
    },
    {
      "cell_type": "code",
      "source": [
        "import numpy as np\n",
        "import matplotlib.pyplot as plt\n",
        "import scipy.signal as signal\n",
        "import sympy as sp\n",
        "from scipy.signal import dlti, dlsim"
      ],
      "metadata": {
        "id": "lYZ_ePql_vg9"
      },
      "execution_count": 37,
      "outputs": []
    },
    {
      "cell_type": "code",
      "execution_count": 38,
      "metadata": {
        "colab": {
          "base_uri": "https://localhost:8080/"
        },
        "id": "fft0s89a_pBQ",
        "outputId": "271a9be8-a9bb-406a-b41e-fea5f374f145"
      },
      "outputs": [
        {
          "output_type": "stream",
          "name": "stdout",
          "text": [
            "Matriz de transición Ad:\n",
            "⎡1  dT  0  0 ⎤\n",
            "⎢            ⎥\n",
            "⎢0  1   0  0 ⎥\n",
            "⎢            ⎥\n",
            "⎢0  0   1  dT⎥\n",
            "⎢            ⎥\n",
            "⎣0  0   0  1 ⎦\n"
          ]
        }
      ],
      "source": [
        "# Cálculo simbólico en Python con sympy\n",
        "dT = sp.symbols('dT')\n",
        "A_sym = sp.Matrix([[0, 1, 0, 0], [0, 0, 0, 0], [0, 0, 0, 1], [0, 0, 0, 0]])\n",
        "Ad = sp.exp(A_sym * dT)\n",
        "print(\"Matriz de transición Ad:\")\n",
        "sp.pprint(Ad)"
      ]
    },
    {
      "cell_type": "code",
      "source": [
        "#syms sigma dT % in Octave , first do: pkg load symbolic\n",
        "sigma = sp.symbols('sigma')\n",
        "#A = [0 1 0 0; 0 0 0 0; 0 0 0 1; 0 0 0 0];\n",
        "#B = [0 0; 1 0; 0 0; 0 1];\n",
        "B =sp.Matrix([[0 ,0],[1 ,0],[0, 0],[0, 1]])\n",
        "#z = expm (A* sigma );\n",
        "z = sp.exp(A_sym * sigma)\n",
        "Bd = sp.integrate(z ,(sigma,0, dT))*B"
      ],
      "metadata": {
        "id": "QdK9y2KRBj9d"
      },
      "execution_count": 39,
      "outputs": []
    },
    {
      "cell_type": "code",
      "source": [
        "Bd"
      ],
      "metadata": {
        "colab": {
          "base_uri": "https://localhost:8080/",
          "height": 104
        },
        "id": "PBE0Vqs8FvtT",
        "outputId": "bd8a04ec-6a3e-4c8e-b5b1-fde69c41c851"
      },
      "execution_count": 4,
      "outputs": [
        {
          "output_type": "execute_result",
          "data": {
            "text/plain": [
              "Matrix([\n",
              "[dT**2/2,       0],\n",
              "[     dT,       0],\n",
              "[      0, dT**2/2],\n",
              "[      0,      dT]])"
            ],
            "text/latex": "$\\displaystyle \\left[\\begin{matrix}\\frac{dT^{2}}{2} & 0\\\\dT & 0\\\\0 & \\frac{dT^{2}}{2}\\\\0 & dT\\end{matrix}\\right]$"
          },
          "metadata": {},
          "execution_count": 4
        }
      ]
    }
  ]
}
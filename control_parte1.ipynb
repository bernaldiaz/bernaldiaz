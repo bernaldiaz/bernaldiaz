{
  "nbformat": 4,
  "nbformat_minor": 0,
  "metadata": {
    "colab": {
      "provenance": [],
      "authorship_tag": "ABX9TyMkIoVcmY12ZHyqOMO49Wxr",
      "include_colab_link": true
    },
    "kernelspec": {
      "name": "python3",
      "display_name": "Python 3"
    },
    "language_info": {
      "name": "python"
    }
  },
  "cells": [
    {
      "cell_type": "markdown",
      "metadata": {
        "id": "view-in-github",
        "colab_type": "text"
      },
      "source": [
        "<a href=\"https://colab.research.google.com/github/bernaldiaz/bernaldiaz/blob/main/control_parte1.ipynb\" target=\"_parent\"><img src=\"https://colab.research.google.com/assets/colab-badge.svg\" alt=\"Open In Colab\"/></a>"
      ]
    },
    {
      "cell_type": "markdown",
      "source": [
        "Sistemas de Control con Python parte 1"
      ],
      "metadata": {
        "id": "ItIW8VbyTCuB"
      }
    },
    {
      "cell_type": "code",
      "execution_count": 1,
      "metadata": {
        "id": "7yF_slsjS237"
      },
      "outputs": [],
      "source": [
        "from scipy.signal import lti\n",
        "import matplotlib.pyplot as plt\n"
      ]
    },
    {
      "cell_type": "code",
      "source": [
        "num = [1,1]\n",
        "den = [1,2,1]\n",
        "sys = lti(num,den)\n"
      ],
      "metadata": {
        "id": "j9hXxuk-Uanu"
      },
      "execution_count": 2,
      "outputs": []
    },
    {
      "cell_type": "code",
      "source": [
        "sys"
      ],
      "metadata": {
        "colab": {
          "base_uri": "https://localhost:8080/"
        },
        "id": "iiHeImdvVe-k",
        "outputId": "8a052a3c-a7f6-4600-ad52-6880eba86418"
      },
      "execution_count": 3,
      "outputs": [
        {
          "output_type": "execute_result",
          "data": {
            "text/plain": [
              "TransferFunctionContinuous(\n",
              "array([1., 1.]),\n",
              "array([1., 2., 1.]),\n",
              "dt: None\n",
              ")"
            ]
          },
          "metadata": {},
          "execution_count": 3
        }
      ]
    },
    {
      "cell_type": "code",
      "source": [
        "t,y = sys.step()"
      ],
      "metadata": {
        "id": "ry9TktIrYNs-"
      },
      "execution_count": 4,
      "outputs": []
    },
    {
      "cell_type": "code",
      "source": [
        "plt.plot(t,y)\n",
        "plt.show()"
      ],
      "metadata": {
        "colab": {
          "base_uri": "https://localhost:8080/",
          "height": 430
        },
        "id": "IwBOfZJqtrkq",
        "outputId": "c6e20b40-c1b5-46eb-878d-801cd18420ef"
      },
      "execution_count": 5,
      "outputs": [
        {
          "output_type": "display_data",
          "data": {
            "text/plain": [
              "<Figure size 640x480 with 1 Axes>"
            ],
            "image/png": "[encoded data removed]"
          },
          "metadata": {}
        }
      ]
    },
    {
      "cell_type": "markdown",
      "source": [
        "Parte 2"
      ],
      "metadata": {
        "id": "jxF4BYSJwQ0n"
      }
    },
    {
      "cell_type": "code",
      "source": [
        "import sympy as sy"
      ],
      "metadata": {
        "id": "063K53yzwh05"
      },
      "execution_count": 6,
      "outputs": []
    },
    {
      "cell_type": "code",
      "source": [
        "s = sy.symbols('s')\n",
        "num = sy.Poly(sys.num,s)\n",
        "den = sy.Poly(sys.den,s)\n",
        "num/den"
      ],
      "metadata": {
        "colab": {
          "base_uri": "https://localhost:8080/",
          "height": 52
        },
        "id": "CIWTBi8vuMoB",
        "outputId": "9c089406-b1ea-4bd0-9aac-eda9faa55902"
      },
      "execution_count": 7,
      "outputs": [
        {
          "output_type": "execute_result",
          "data": {
            "text/plain": [
              "(1.0*s + 1.0)/(1.0*s**2 + 2.0*s + 1.0)"
            ],
            "text/latex": "$\\displaystyle \\frac{1.0 s + 1.0}{1.0 s^{2} + 2.0 s + 1.0}$"
          },
          "metadata": {},
          "execution_count": 7
        }
      ]
    },
    {
      "cell_type": "code",
      "source": [
        "sy.simplify(num/den)"
      ],
      "metadata": {
        "colab": {
          "base_uri": "https://localhost:8080/",
          "height": 52
        },
        "id": "D88wMJwazsrH",
        "outputId": "6f67ec09-2c82-4be4-c8a8-2c58945c8de4"
      },
      "execution_count": 8,
      "outputs": [
        {
          "output_type": "execute_result",
          "data": {
            "text/plain": [
              "1.0/(s + 1)"
            ],
            "text/latex": "$\\displaystyle \\frac{1.0}{s + 1}$"
          },
          "metadata": {},
          "execution_count": 8
        }
      ]
    },
    {
      "cell_type": "markdown",
      "source": [
        "vamos a hacerlo pero como funcion"
      ],
      "metadata": {
        "id": "VczGVRZa0KLt"
      }
    },
    {
      "cell_type": "code",
      "source": [
        "def pretysys(sys):\n",
        "    s = sy.symbols('s')\n",
        "    num = sy.Poly(sys.num,s)\n",
        "    den = sy.Poly(sys.den,s)\n",
        "    return sy.simplify(num/den)"
      ],
      "metadata": {
        "id": "gcHRiHij0SPR"
      },
      "execution_count": 9,
      "outputs": []
    },
    {
      "cell_type": "code",
      "source": [
        "sys2 = lti([2],[1,2,3])"
      ],
      "metadata": {
        "id": "iAJOz3D-0_vI"
      },
      "execution_count": 10,
      "outputs": []
    },
    {
      "cell_type": "code",
      "source": [
        "pretysys(sys2)"
      ],
      "metadata": {
        "colab": {
          "base_uri": "https://localhost:8080/",
          "height": 52
        },
        "id": "QkEJXozM1YZm",
        "outputId": "50456e0c-3f62-4c0f-87d7-e2c33279e315"
      },
      "execution_count": 11,
      "outputs": [
        {
          "output_type": "execute_result",
          "data": {
            "text/plain": [
              "2.0/(1.0*s**2 + 2.0*s + 3.0)"
            ],
            "text/latex": "$\\displaystyle \\frac{2.0}{1.0 s^{2} + 2.0 s + 3.0}$"
          },
          "metadata": {},
          "execution_count": 11
        }
      ]
    },
    {
      "cell_type": "code",
      "source": [
        "import numpy as np\n"
      ],
      "metadata": {
        "id": "bVpoSkl61cbF"
      },
      "execution_count": 12,
      "outputs": []
    },
    {
      "cell_type": "code",
      "source": [
        "def serie(sys1,sys2):\n",
        "  num = np.polymul(sys1.num,sys2.num)\n",
        "  den = np.polymul(sys1.den,sys2.den)\n",
        "  return lti(num,den)"
      ],
      "metadata": {
        "id": "Ms9ZqcRW2xnP"
      },
      "execution_count": 13,
      "outputs": []
    },
    {
      "cell_type": "code",
      "source": [
        "a = lti([2],[1,2])\n",
        "b = lti([1],[1,2,3])"
      ],
      "metadata": {
        "id": "rQ5RTKlQ3yqP"
      },
      "execution_count": 14,
      "outputs": []
    },
    {
      "cell_type": "code",
      "source": [
        "serie(a,b)"
      ],
      "metadata": {
        "colab": {
          "base_uri": "https://localhost:8080/"
        },
        "id": "mBpaa4pi4YAl",
        "outputId": "033a0084-89d9-4229-bc77-3dbef32ed6cd"
      },
      "execution_count": 15,
      "outputs": [
        {
          "output_type": "execute_result",
          "data": {
            "text/plain": [
              "TransferFunctionContinuous(\n",
              "array([2.]),\n",
              "array([1., 4., 7., 6.]),\n",
              "dt: None\n",
              ")"
            ]
          },
          "metadata": {},
          "execution_count": 15
        }
      ]
    },
    {
      "cell_type": "code",
      "source": [
        "pretysys(serie(a,b))  # para una mejor presentacion"
      ],
      "metadata": {
        "colab": {
          "base_uri": "https://localhost:8080/",
          "height": 52
        },
        "id": "Wr_t-T2k4j1o",
        "outputId": "c52f0fae-8369-40da-c09e-85a12be5c9ce"
      },
      "execution_count": 16,
      "outputs": [
        {
          "output_type": "execute_result",
          "data": {
            "text/plain": [
              "2.0/(1.0*s**3 + 4.0*s**2 + 7.0*s + 6.0)"
            ],
            "text/latex": "$\\displaystyle \\frac{2.0}{1.0 s^{3} + 4.0 s^{2} + 7.0 s + 6.0}$"
          },
          "metadata": {},
          "execution_count": 16
        }
      ]
    },
    {
      "cell_type": "code",
      "source": [],
      "metadata": {
        "id": "RKH3YE7v5T5c"
      },
      "execution_count": 16,
      "outputs": []
    },
    {
      "cell_type": "markdown",
      "source": [
        "funcion_t_camino_directo = $G(s)$\n",
        "\n"
      ],
      "metadata": {
        "id": "-dtBfhRh7vbR"
      }
    },
    {
      "cell_type": "markdown",
      "source": [
        "funcion_t_retro = $H(s)$"
      ],
      "metadata": {
        "id": "LA7rZIIu-5QF"
      }
    },
    {
      "cell_type": "markdown",
      "source": [
        "$$GH(s) =\\frac{G(s)}{1+G(s)\\cdot H(s)} =\\frac{GN\\cdot HD}{GN\\cdot HN+GD\\cdot HD}$$"
      ],
      "metadata": {
        "id": "3GjlWOJn-_BF"
      }
    },
    {
      "cell_type": "code",
      "source": [
        "def feedback(sys1,sys2):\n",
        "  num = np.polymul(sys1.num,sys2.den)\n",
        "  a = np.polymul(sys1.num,sys2.num)\n",
        "  b = np.polymul(sys1.den,sys2.den)\n",
        "  den = np.polyadd(a,b)\n",
        "  return lti(num,den)\n"
      ],
      "metadata": {
        "id": "JnCLjNt79CKj"
      },
      "execution_count": 17,
      "outputs": []
    },
    {
      "cell_type": "code",
      "source": [
        "feedback(a,b)\n"
      ],
      "metadata": {
        "colab": {
          "base_uri": "https://localhost:8080/"
        },
        "id": "9wrXE79SGnKQ",
        "outputId": "a55dd21f-1b42-4fcb-9d68-daaa0fb3abe0"
      },
      "execution_count": 18,
      "outputs": [
        {
          "output_type": "execute_result",
          "data": {
            "text/plain": [
              "TransferFunctionContinuous(\n",
              "array([2., 4., 6.]),\n",
              "array([1., 4., 7., 8.]),\n",
              "dt: None\n",
              ")"
            ]
          },
          "metadata": {},
          "execution_count": 18
        }
      ]
    },
    {
      "cell_type": "code",
      "source": [
        "pretysys(feedback(a,b))"
      ],
      "metadata": {
        "colab": {
          "base_uri": "https://localhost:8080/",
          "height": 55
        },
        "id": "rgw1osFBIUxe",
        "outputId": "c2b39a3c-da18-4365-da50-f465320c2046"
      },
      "execution_count": 19,
      "outputs": [
        {
          "output_type": "execute_result",
          "data": {
            "text/plain": [
              "(2.0*s**2 + 4.0*s + 6.0)/(1.0*s**3 + 4.0*s**2 + 7.0*s + 8.0)"
            ],
            "text/latex": "$\\displaystyle \\frac{2.0 s^{2} + 4.0 s + 6.0}{1.0 s^{3} + 4.0 s^{2} + 7.0 s + 8.0}$"
          },
          "metadata": {},
          "execution_count": 19
        }
      ]
    }
  ]
}
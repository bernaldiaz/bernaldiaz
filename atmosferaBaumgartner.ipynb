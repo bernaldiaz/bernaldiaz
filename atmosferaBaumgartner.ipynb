{
  "nbformat": 4,
  "nbformat_minor": 0,
  "metadata": {
    "colab": {
      "provenance": [],
      "authorship_tag": "ABX9TyMH9+NuSX8by39chVmZsc/O",
      "include_colab_link": true
    },
    "kernelspec": {
      "name": "python3",
      "display_name": "Python 3"
    },
    "language_info": {
      "name": "python"
    }
  },
  "cells": [
    {
      "cell_type": "markdown",
      "metadata": {
        "id": "view-in-github",
        "colab_type": "text"
      },
      "source": [
        "<a href=\"https://colab.research.google.com/github/bernaldiaz/bernaldiaz/blob/main/atmosferaBaumgartner.ipynb\" target=\"_parent\"><img src=\"https://colab.research.google.com/assets/colab-badge.svg\" alt=\"Open In Colab\"/></a>"
      ]
    },
    {
      "cell_type": "markdown",
      "source": [
        "Este programa es para calcular la s constantes atmosfericas en el caso del salto de Baumgartner\n"
      ],
      "metadata": {
        "id": "-4qJPuQALt76"
      }
    },
    {
      "cell_type": "code",
      "execution_count": 1,
      "metadata": {
        "id": "QbZjTj4lLkxP"
      },
      "outputs": [],
      "source": [
        "import numpy as np"
      ]
    },
    {
      "cell_type": "code",
      "source": [
        "# This should work up to and including 51,000 meters of altitude, using ISA values.\n",
        "\n",
        "decimal_places = 5  # Amount of decimal places to give output to, adjustable.\n",
        "gravity_const = 9.80665  # Gravity\n",
        "R_const = 287.05  # Specific gas value for air"
      ],
      "metadata": {
        "id": "6dbpnXKWME4y"
      },
      "execution_count": 2,
      "outputs": []
    },
    {
      "cell_type": "code",
      "source": [
        "# Get and sanitize user input\n",
        "altitude_str = input('Enter altitude in meters:')\n",
        "try:\n",
        "    altitude_flt = float(altitude_str)\n",
        "    if altitude_flt < 0.0:\n",
        "        raise ValueError\n",
        "except ValueError:\n",
        "    print('Altitude must be a positive float!')\n",
        "    exit(0)\n",
        "assert altitude_flt <= 51000, 'Altitude must be less than 51,000 meters!'\n",
        ""
      ],
      "metadata": {
        "colab": {
          "base_uri": "https://localhost:8080/"
        },
        "id": "y7LTBlbzMQtY",
        "outputId": "a0e7c3be-4c58-42e2-c3e2-0a14812e07e1"
      },
      "execution_count": 10,
      "outputs": [
        {
          "name": "stdout",
          "output_type": "stream",
          "text": [
            "Enter altitude in meters:38969\n"
          ]
        }
      ]
    },
    {
      "cell_type": "code",
      "source": [
        "# Different lapse rate values for different altitudes (in Kelvin/meter)\n",
        "# This dict indicates the value from the previous layer up to the listed height\n",
        "lapse_rate_values = {\n",
        "    11000: -0.0065,\n",
        "    20000: 0.000,\n",
        "    32000: 0.001,\n",
        "    47000: 0.0028,\n",
        "    51000: 0.000\n",
        "}"
      ],
      "metadata": {
        "id": "5eW5FP0IMxKa"
      },
      "execution_count": 11,
      "outputs": []
    },
    {
      "cell_type": "code",
      "source": [
        "def calc_layer(t0, p0, rho0, delta_h, a):\n",
        "    if a == 0.00:  # Isothermal layer\n",
        "        ratio = np.e ** ((gravity_const / (-R_const * t0)) * delta_h)\n",
        "        p1 = p0 * ratio\n",
        "        rho1 = rho0 * ratio\n",
        "        return t0, p1, rho1\n",
        "    else:  # 'Normal' layer\n",
        "        t1 = t0 + delta_h * a\n",
        "        exponent = -(gravity_const / (R_const * a))\n",
        "        t_ratio = (t1 / t0)\n",
        "        p1 = t_ratio ** exponent * p0\n",
        "        rho1 = t_ratio ** (exponent - 1) * rho0\n",
        "        return t1, p1, rho1"
      ],
      "metadata": {
        "id": "IV3ZOQc6M_yB"
      },
      "execution_count": 12,
      "outputs": []
    },
    {
      "cell_type": "code",
      "source": [
        "alt_changing = altitude_flt  # Keep track of the altitude remaining to calculate\n",
        "prev_p = 101325.0  # Pressure at sea level for ISA (Pa)\n",
        "prev_rho = 1.2250  # Density at sea level for ISA (kg/m3)\n",
        "prev_t = 288.15  # Temperature at sea level for ISA (K)\n",
        "prev_layer_height = 0.0  # Sea level (m)"
      ],
      "metadata": {
        "id": "qeFob7CDNQlw"
      },
      "execution_count": 13,
      "outputs": []
    },
    {
      "cell_type": "code",
      "source": [
        "for layer_height, lapse_rate in lapse_rate_values.items():\n",
        "    if alt_changing <= layer_height - prev_layer_height:\n",
        "        # Alt changing is now the delta height, as it is the final 'layer' left\n",
        "        final_t, final_p, final_rho = calc_layer(prev_t, prev_p, prev_rho, alt_changing, lapse_rate)\n",
        "        print(f'Temperature at {altitude_flt}: {round(final_t, decimal_places)}K\\n'\n",
        "              f'Pressure at {altitude_flt}: {round(final_p, decimal_places)}Pa\\n'\n",
        "              f'Density at {altitude_flt}: {round(final_rho, decimal_places)}kg/m3')\n",
        "        break\n",
        "    else:\n",
        "        dh = layer_height - prev_layer_height  # Compute delta height/thickness of layer\n",
        "        alt_changing -= dh  # Calc alt changing, keeps track of how much altitude is left to calculate\n",
        "        prev_t, prev_p, prev_rho = calc_layer(prev_t, prev_p, prev_rho, dh, lapse_rate)\n",
        "        prev_layer_height = layer_height"
      ],
      "metadata": {
        "colab": {
          "base_uri": "https://localhost:8080/"
        },
        "id": "WTYRn0QdNaCI",
        "outputId": "44bd0229-e760-414f-ae9f-134984549e89"
      },
      "execution_count": 14,
      "outputs": [
        {
          "output_type": "stream",
          "name": "stdout",
          "text": [
            "Temperature at 38969.0: 248.1632K\n",
            "Pressure at 38969.0: 319.56146Pa\n",
            "Density at 38969.0: 0.00449kg/m3\n"
          ]
        }
      ]
    }
  ]
}
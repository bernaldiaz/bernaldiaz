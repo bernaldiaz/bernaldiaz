{
  "nbformat": 4,
  "nbformat_minor": 0,
  "metadata": {
    "colab": {
      "provenance": [],
      "authorship_tag": "ABX9TyPeg2UgfN0t91myGrC5fiiV",
      "include_colab_link": true
    },
    "kernelspec": {
      "name": "python3",
      "display_name": "Python 3"
    },
    "language_info": {
      "name": "python"
    }
  },
  "cells": [
    {
      "cell_type": "markdown",
      "metadata": {
        "id": "view-in-github",
        "colab_type": "text"
      },
      "source": [
        "<a href=\"https://colab.research.google.com/github/bernaldiaz/bernaldiaz/blob/main/ecuacion_de_poisson_gravitacional.ipynb\" target=\"_parent\"><img src=\"https://colab.research.google.com/assets/colab-badge.svg\" alt=\"Open In Colab\"/></a>"
      ]
    },
    {
      "cell_type": "code",
      "execution_count": null,
      "metadata": {
        "id": "H8vKJlevGYnq"
      },
      "outputs": [],
      "source": []
    },
    {
      "cell_type": "markdown",
      "source": [],
      "metadata": {
        "id": "smnzWPJGGbDo"
      }
    },
    {
      "cell_type": "markdown",
      "source": [
        "# Derivación de la ecuación de Poisson gravitacional\n",
        "\n",
        "## 1. Ecuación de Poisson gravitacional\n",
        "\n",
        "La **ecuación de Poisson gravitacional** es:\n",
        "\n",
        "$$\n",
        "\\nabla^2 \\Phi = 4 \\pi G \\rho\n",
        "$$\n",
        "\n",
        "Donde:\n",
        "- $ \\nabla^2 \\Phi $ es el *laplaciano* del potencial gravitacional $ \\Phi $,\n",
        "- $ G $ es la *constante de gravitación universal*,\n",
        "- $ \\rho $ es la *densidad de masa*.\n",
        "\n",
        "## 2. Derivación de la ecuación de Poisson\n",
        "\n",
        "### Ley de Newton de la gravitación\n",
        "\n",
        "El campo gravitacional generado por una masa puntual $ m $ es:\n",
        "\n",
        "$$\n",
        "\\vec{g}(\\vec{r}) = - G \\frac{m}{|\\vec{r} - \\vec{r}_0|^3} (\\vec{r} - \\vec{r}_0)\n",
        "$$\n",
        "\n",
        "Donde:\n",
        "- $ \\vec{g} $ es el campo gravitacional,\n",
        "- $ G $ es la constante de gravitación,\n",
        "- $ m $ es la masa,\n",
        "- $ \\vec{r}_0 $ es la posición de la masa puntual,\n",
        "- $ \\vec{r} $ es el punto en el espacio donde se mide el campo.\n",
        "\n",
        "### Potencial gravitacional\n",
        "\n",
        "El campo gravitacional puede expresarse como el gradiente de un potencial gravitacional escalar $ \\Phi $:\n",
        "\n",
        "$$\n",
        "\\vec{g} = -\\nabla \\Phi\n",
        "$$\n",
        "\n",
        "Para una masa puntual, el potencial gravitacional es:\n",
        "\n",
        "$$\n",
        "\\Phi(\\vec{r}) = - \\frac{G m}{|\\vec{r} - \\vec{r}_0|}\n",
        "$$\n",
        "\n",
        "### Ley de Gauss para la gravitación\n",
        "\n",
        "La **Ley de Gauss para la gravitación** establece que el flujo del campo gravitacional a través de una superficie cerrada es proporcional a la masa encerrada:\n",
        "\n",
        "$$\n",
        "\\oint_S \\vec{g} \\cdot d\\vec{A} = -4\\pi G M_{\\text{encerrada}}\n",
        "$$\n",
        "\n",
        "Donde:\n",
        "- $ \\oint_S $ indica la integral sobre una superficie cerrada $ S $,\n",
        "- $ d\\vec{A} $ es un elemento infinitesimal de área,\n",
        "- $ M_{\\text{encerrada}} $ es la masa encerrada dentro de la superficie $ S $.\n",
        "\n",
        "Utilizando el **teorema de la divergencia**, que relaciona el flujo de un campo a través de una superficie cerrada con la integral de la divergencia de dicho campo en el volumen encerrado, podemos escribir:\n",
        "\n",
        "$$\n",
        "\\oint_S \\vec{g} \\cdot d\\vec{A} = \\int_V (\\nabla \\cdot \\vec{g}) \\, dV\n",
        "$$\n",
        "\n",
        "Entonces, según la ley de Gauss para la gravitación:\n",
        "\n",
        "$$\n",
        "\\nabla \\cdot \\vec{g} = -4 \\pi G \\rho\n",
        "$$\n",
        "\n",
        "Donde $ \\rho $ es la densidad de masa.\n",
        "\n",
        "### Relación con el potencial gravitacional\n",
        "\n",
        "Sabemos que $ \\vec{g} = -\\nabla \\Phi $, es decir, el campo gravitacional es el gradiente negativo del potencial gravitacional. Sustituyendo esto en la expresión anterior:\n",
        "\n",
        "$$\n",
        "\\nabla \\cdot (-\\nabla \\Phi) = 4 \\pi G \\rho\n",
        "$$\n",
        "\n",
        "Dado que $ \\nabla \\cdot (-\\nabla \\Phi) = -\\nabla^2 \\Phi $, obtenemos la ecuación de Poisson:\n",
        "\n",
        "$$\n",
        "\\nabla^2 \\Phi = 4 \\pi G \\rho\n",
        "$$\n",
        "\n",
        "Esta es la **ecuación de Poisson gravitacional** que relaciona la distribución de masa con el potencial gravitacional.\n",
        "\n",
        "## 3. Conclusión\n",
        "\n",
        "La ecuación de Poisson es una ecuación fundamental en la gravitación, que describe cómo la distribución de masa $ \\rho $ genera un campo gravitacional a través del potencial gravitacional $ \\Phi $. Se deriva utilizando la ley de Newton para la gravitación, la ley de Gauss y el teorema de la divergencia, relacionando el campo gravitacional con la densidad de masa de manera local.\n"
      ],
      "metadata": {
        "id": "g10Pge9eGbYJ"
      }
    }
  ]
}
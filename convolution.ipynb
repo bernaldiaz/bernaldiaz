{
  "nbformat": 4,
  "nbformat_minor": 0,
  "metadata": {
    "colab": {
      "provenance": [],
      "authorship_tag": "ABX9TyPs1EMleantcp8TH0K8GA+/",
      "include_colab_link": true
    },
    "kernelspec": {
      "name": "python3",
      "display_name": "Python 3"
    },
    "language_info": {
      "name": "python"
    }
  },
  "cells": [
    {
      "cell_type": "markdown",
      "metadata": {
        "id": "view-in-github",
        "colab_type": "text"
      },
      "source": [
        "<a href=\"https://colab.research.google.com/github/bernaldiaz/bernaldiaz/blob/main/convolution.ipynb\" target=\"_parent\"><img src=\"https://colab.research.google.com/assets/colab-badge.svg\" alt=\"Open In Colab\"/></a>"
      ]
    },
    {
      "cell_type": "markdown",
      "source": [
        "Este es el programa convolucion del curso vehicle suspension control 1 de Udemy"
      ],
      "metadata": {
        "id": "GrLEKkFmDSoA"
      }
    },
    {
      "cell_type": "code",
      "execution_count": 1,
      "metadata": {
        "id": "GzLGKvQXBswC"
      },
      "outputs": [],
      "source": [
        "from sympy import symbols, integrate, sin, Rational, pprint, DiracDelta, Heaviside\n",
        "import sympy as sp"
      ]
    },
    {
      "cell_type": "code",
      "source": [
        "### Input signal represented with the convolution integral ###\n",
        "\n",
        "# Define symbols\n",
        "t, tau = symbols('t tau')\n",
        "\n",
        "# Define the functions u(tau) and h(t - tau)\n",
        "u = 2 * sin(tau)  # u(tau)\n"
      ],
      "metadata": {
        "id": "flgmWL5pCAwA"
      },
      "execution_count": 2,
      "outputs": []
    },
    {
      "cell_type": "code",
      "source": [
        "# Set up the convolution integral\n",
        "convolution_integral = integrate(u * DiracDelta(t - tau), (tau, -sp.oo, sp.oo))\n"
      ],
      "metadata": {
        "id": "jhNS16X9Cahb"
      },
      "execution_count": 3,
      "outputs": []
    },
    {
      "cell_type": "code",
      "source": [
        "# Display the result\n",
        "print(\"Input signal: \")\n",
        "pprint(convolution_integral)"
      ],
      "metadata": {
        "colab": {
          "base_uri": "https://localhost:8080/"
        },
        "id": "HlWfFURfCeTF",
        "outputId": "920b2838-0a44-4a7f-bf2d-84e9c7a96f50"
      },
      "execution_count": 4,
      "outputs": [
        {
          "output_type": "stream",
          "name": "stdout",
          "text": [
            "Input signal: \n",
            "2⋅sin(t)\n"
          ]
        }
      ]
    },
    {
      "cell_type": "code",
      "source": [
        "### The solution represented with the convolution integral ###\n",
        "\n",
        "# Define symbols\n",
        "t, tau = symbols('t tau')\n",
        "\n",
        "# Define the functions u(tau) and h(t - tau) as fractions\n",
        "u = 2 * sin(tau)  # u(tau)\n",
        "h = Rational(1, 8) * sin(2 * (t - tau))  # h(t - tau), using Rational for fractions"
      ],
      "metadata": {
        "id": "1IElEWfdCr2g"
      },
      "execution_count": 5,
      "outputs": []
    },
    {
      "cell_type": "code",
      "source": [
        "# Set up the convolution integral\n",
        "convolution_integral = integrate(u * h, (tau, 0, t))\n",
        "\n",
        "# Display the result as a fraction\n",
        "print(\"Solution: \")\n",
        "pprint(convolution_integral)\n"
      ],
      "metadata": {
        "colab": {
          "base_uri": "https://localhost:8080/"
        },
        "id": "8Gisx0XmC61Y",
        "outputId": "b676b779-226d-4716-be0a-ea718d78b62b"
      },
      "execution_count": 6,
      "outputs": [
        {
          "output_type": "stream",
          "name": "stdout",
          "text": [
            "Solution: \n",
            "sin(t)   sin(2⋅t)\n",
            "────── - ────────\n",
            "  6         12   \n"
          ]
        }
      ]
    },
    {
      "cell_type": "code",
      "source": [],
      "metadata": {
        "id": "ozAhdgy5CSQR"
      },
      "execution_count": null,
      "outputs": []
    }
  ]
}
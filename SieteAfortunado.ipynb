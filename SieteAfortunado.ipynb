{
  "nbformat": 4,
  "nbformat_minor": 0,
  "metadata": {
    "colab": {
      "provenance": [],
      "authorship_tag": "ABX9TyMBRnueom2Oi8PS0VB2HLNS",
      "include_colab_link": true
    },
    "kernelspec": {
      "name": "python3",
      "display_name": "Python 3"
    },
    "language_info": {
      "name": "python"
    }
  },
  "cells": [
    {
      "cell_type": "markdown",
      "metadata": {
        "id": "view-in-github",
        "colab_type": "text"
      },
      "source": [
        "<a href=\"https://colab.research.google.com/github/bernaldiaz/bernaldiaz/blob/main/SieteAfortunado.ipynb\" target=\"_parent\"><img src=\"https://colab.research.google.com/assets/colab-badge.svg\" alt=\"Open In Colab\"/></a>"
      ]
    },
    {
      "cell_type": "code",
      "execution_count": 1,
      "metadata": {
        "id": "9IfnJl9mwNVn"
      },
      "outputs": [],
      "source": [
        "with open('SieteAfortunado.py', 'r') as file:\n",
        "    contenido = file.read()"
      ]
    },
    {
      "cell_type": "code",
      "source": [
        "contenido"
      ],
      "metadata": {
        "colab": {
          "base_uri": "https://localhost:8080/",
          "height": 239
        },
        "id": "V_1pRHaGxnEn",
        "outputId": "c89abf5f-52c1-49e6-8e46-74d6dc4c2869"
      },
      "execution_count": 2,
      "outputs": [
        {
          "output_type": "execute_result",
          "data": {
            "text/plain": [
              "'# Siete afortunado\\n\\n# Clases\\n\\t# Atributos\\n\\t# Métodos\\n\\t# Ciclos\\n\\t# Arreglos\\n\\n# Interfaces gráficas\\n\\t# Eventos\\n\\n\\nfrom tkinter import *\\nimport random\\n\\nclass SieteAfortunado:\\n\\n\\tdef __init__(self):\\n\\t\\tself.crear_interfaz()\\n\\n\\tdef crear_interfaz(self):\\n\\t\\tventana = Tk()\\n\\t\\tventana.minsize(340,450)\\n\\t\\tventana.geometry(\\'340x450\\')\\n\\n\\t\\tboton = Button(ventana, text=\"Jugar!\", command=self.jugar, font=\\'arial 18 bold\\')\\n\\t\\tboton.pack()\\n\\n\\t\\tfoto = PhotoImage(file=r\\'dinero.png\\')\\n\\t\\tself.gano = Label(ventana,image=foto)\\n\\n\\t\\tself.campos = [StringVar() for elemento in range(3)]\\n\\t\\tposicion = 10\\n\\t\\tfor campo in self.campos:\\n\\t\\t\\tlabel = Label(ventana, textvariable=campo, background=\\'White\\', foreground=\\'Black\\', font=\\'arial 42 bold\\')\\n\\t\\t\\tlabel.place(x=posicion, y=100,width=100, height=100)\\n\\t\\t\\tposicion += 110\\n\\n\\t\\tmainloop()\\n\\n\\tdef generar_numero(self):\\n\\t\\treturn random.randint(0,9)\\n\\n\\tdef jugar(self):\\n\\t\\thay_siete = False\\n\\t\\tfor i in range(3):\\n\\t\\t\\tvalor = self.generar_numero()\\n\\t\\t\\tself.campos[i].set(valor)\\n\\t\\t\\tif(valor == 7):\\n\\t\\t\\t\\thay_siete = True\\n\\n\\t\\tif(hay_siete):\\n\\t\\t\\tself.gano.pack(side=BOTTOM)\\n\\t\\telse:\\n\\t\\t\\tself.gano.pack_forget()\\n\\n\\njugar = SieteAfortunado()'"
            ],
            "application/vnd.google.colaboratory.intrinsic+json": {
              "type": "string"
            }
          },
          "metadata": {},
          "execution_count": 2
        }
      ]
    },
    {
      "cell_type": "code",
      "source": [
        "from google.colab import files\n",
        "\n",
        "# Selecciona el archivo py desde tu computadora\n",
        "uploaded = files.upload()"
      ],
      "metadata": {
        "colab": {
          "base_uri": "https://localhost:8080/",
          "height": 69
        },
        "id": "AnTzeXEOxzmb",
        "outputId": "47597dcd-0d11-463a-c068-baa65076f810"
      },
      "execution_count": 5,
      "outputs": [
        {
          "output_type": "display_data",
          "data": {
            "text/plain": [
              "<IPython.core.display.HTML object>"
            ],
            "text/html": [
              "\n",
              "     <input type=\"file\" id=\"files-0d6cd3a6-e40a-4613-85e1-8ffeb2f0f49f\" name=\"files[]\" multiple disabled\n",
              "        style=\"border:none\" />\n",
              "     <output id=\"result-0d6cd3a6-e40a-4613-85e1-8ffeb2f0f49f\">\n",
              "      Upload widget is only available when the cell has been executed in the\n",
              "      current browser session. Please rerun this cell to enable.\n",
              "      </output>\n",
              "      <script>// Copyright 2017 Google LLC\n",
              "//\n",
              "// Licensed under the Apache License, Version 2.0 (the \"License\");\n",
              "// you may not use this file except in compliance with the License.\n",
              "// You may obtain a copy of the License at\n",
              "//\n",
              "//      http://www.apache.org/licenses/LICENSE-2.0\n",
              "//\n",
              "// Unless required by applicable law or agreed to in writing, software\n",
              "// distributed under the License is distributed on an \"AS IS\" BASIS,\n",
              "// WITHOUT WARRANTIES OR CONDITIONS OF ANY KIND, either express or implied.\n",
              "// See the License for the specific language governing permissions and\n",
              "// limitations under the License.\n",
              "\n",
              "/**\n",
              " * @fileoverview Helpers for google.colab Python module.\n",
              " */\n",
              "(function(scope) {\n",
              "function span(text, styleAttributes = {}) {\n",
              "  const element = document.createElement('span');\n",
              "  element.textContent = text;\n",
              "  for (const key of Object.keys(styleAttributes)) {\n",
              "    element.style[key] = styleAttributes[key];\n",
              "  }\n",
              "  return element;\n",
              "}\n",
              "\n",
              "// Max number of bytes which will be uploaded at a time.\n",
              "const MAX_PAYLOAD_SIZE = 100 * 1024;\n",
              "\n",
              "function _uploadFiles(inputId, outputId) {\n",
              "  const steps = uploadFilesStep(inputId, outputId);\n",
              "  const outputElement = document.getElementById(outputId);\n",
              "  // Cache steps on the outputElement to make it available for the next call\n",
              "  // to uploadFilesContinue from Python.\n",
              "  outputElement.steps = steps;\n",
              "\n",
              "  return _uploadFilesContinue(outputId);\n",
              "}\n",
              "\n",
              "// This is roughly an async generator (not supported in the browser yet),\n",
              "// where there are multiple asynchronous steps and the Python side is going\n",
              "// to poll for completion of each step.\n",
              "// This uses a Promise to block the python side on completion of each step,\n",
              "// then passes the result of the previous step as the input to the next step.\n",
              "function _uploadFilesContinue(outputId) {\n",
              "  const outputElement = document.getElementById(outputId);\n",
              "  const steps = outputElement.steps;\n",
              "\n",
              "  const next = steps.next(outputElement.lastPromiseValue);\n",
              "  return Promise.resolve(next.value.promise).then((value) => {\n",
              "    // Cache the last promise value to make it available to the next\n",
              "    // step of the generator.\n",
              "    outputElement.lastPromiseValue = value;\n",
              "    return next.value.response;\n",
              "  });\n",
              "}\n",
              "\n",
              "/**\n",
              " * Generator function which is called between each async step of the upload\n",
              " * process.\n",
              " * @param {string} inputId Element ID of the input file picker element.\n",
              " * @param {string} outputId Element ID of the output display.\n",
              " * @return {!Iterable<!Object>} Iterable of next steps.\n",
              " */\n",
              "function* uploadFilesStep(inputId, outputId) {\n",
              "  const inputElement = document.getElementById(inputId);\n",
              "  inputElement.disabled = false;\n",
              "\n",
              "  const outputElement = document.getElementById(outputId);\n",
              "  outputElement.innerHTML = '';\n",
              "\n",
              "  const pickedPromise = new Promise((resolve) => {\n",
              "    inputElement.addEventListener('change', (e) => {\n",
              "      resolve(e.target.files);\n",
              "    });\n",
              "  });\n",
              "\n",
              "  const cancel = document.createElement('button');\n",
              "  inputElement.parentElement.appendChild(cancel);\n",
              "  cancel.textContent = 'Cancel upload';\n",
              "  const cancelPromise = new Promise((resolve) => {\n",
              "    cancel.onclick = () => {\n",
              "      resolve(null);\n",
              "    };\n",
              "  });\n",
              "\n",
              "  // Wait for the user to pick the files.\n",
              "  const files = yield {\n",
              "    promise: Promise.race([pickedPromise, cancelPromise]),\n",
              "    response: {\n",
              "      action: 'starting',\n",
              "    }\n",
              "  };\n",
              "\n",
              "  cancel.remove();\n",
              "\n",
              "  // Disable the input element since further picks are not allowed.\n",
              "  inputElement.disabled = true;\n",
              "\n",
              "  if (!files) {\n",
              "    return {\n",
              "      response: {\n",
              "        action: 'complete',\n",
              "      }\n",
              "    };\n",
              "  }\n",
              "\n",
              "  for (const file of files) {\n",
              "    const li = document.createElement('li');\n",
              "    li.append(span(file.name, {fontWeight: 'bold'}));\n",
              "    li.append(span(\n",
              "        `(${file.type || 'n/a'}) - ${file.size} bytes, ` +\n",
              "        `last modified: ${\n",
              "            file.lastModifiedDate ? file.lastModifiedDate.toLocaleDateString() :\n",
              "                                    'n/a'} - `));\n",
              "    const percent = span('0% done');\n",
              "    li.appendChild(percent);\n",
              "\n",
              "    outputElement.appendChild(li);\n",
              "\n",
              "    const fileDataPromise = new Promise((resolve) => {\n",
              "      const reader = new FileReader();\n",
              "      reader.onload = (e) => {\n",
              "        resolve(e.target.result);\n",
              "      };\n",
              "      reader.readAsArrayBuffer(file);\n",
              "    });\n",
              "    // Wait for the data to be ready.\n",
              "    let fileData = yield {\n",
              "      promise: fileDataPromise,\n",
              "      response: {\n",
              "        action: 'continue',\n",
              "      }\n",
              "    };\n",
              "\n",
              "    // Use a chunked sending to avoid message size limits. See b/62115660.\n",
              "    let position = 0;\n",
              "    do {\n",
              "      const length = Math.min(fileData.byteLength - position, MAX_PAYLOAD_SIZE);\n",
              "      const chunk = new Uint8Array(fileData, position, length);\n",
              "      position += length;\n",
              "\n",
              "      const base64 = btoa(String.fromCharCode.apply(null, chunk));\n",
              "      yield {\n",
              "        response: {\n",
              "          action: 'append',\n",
              "          file: file.name,\n",
              "          data: base64,\n",
              "        },\n",
              "      };\n",
              "\n",
              "      let percentDone = fileData.byteLength === 0 ?\n",
              "          100 :\n",
              "          Math.round((position / fileData.byteLength) * 100);\n",
              "      percent.textContent = `${percentDone}% done`;\n",
              "\n",
              "    } while (position < fileData.byteLength);\n",
              "  }\n",
              "\n",
              "  // All done.\n",
              "  yield {\n",
              "    response: {\n",
              "      action: 'complete',\n",
              "    }\n",
              "  };\n",
              "}\n",
              "\n",
              "scope.google = scope.google || {};\n",
              "scope.google.colab = scope.google.colab || {};\n",
              "scope.google.colab._files = {\n",
              "  _uploadFiles,\n",
              "  _uploadFilesContinue,\n",
              "};\n",
              "})(self);\n",
              "</script> "
            ]
          },
          "metadata": {}
        },
        {
          "output_type": "stream",
          "name": "stdout",
          "text": [
            "Saving SieteAfortunado.py to SieteAfortunado (1).py\n"
          ]
        }
      ]
    },
    {
      "cell_type": "code",
      "source": [
        "# Obtén el nombre del archivo cargado\n",
        "nombre_del_archivo = list(uploaded.keys())[0]\n"
      ],
      "metadata": {
        "id": "rQo4H1KfzaSX"
      },
      "execution_count": 6,
      "outputs": []
    },
    {
      "cell_type": "code",
      "source": [
        "# Lee el contenido del archivo\n",
        "with open(nombre_del_archivo, 'r') as file:\n",
        "    contenido = file.read()\n",
        "\n",
        "# Muestra el contenido del archivo\n",
        "print(contenido)"
      ],
      "metadata": {
        "colab": {
          "base_uri": "https://localhost:8080/"
        },
        "id": "xiY_zjN50Oum",
        "outputId": "2e2fb172-59e7-4094-e54f-a380ca309862"
      },
      "execution_count": 7,
      "outputs": [
        {
          "output_type": "stream",
          "name": "stdout",
          "text": [
            "# Siete afortunado\n",
            "\n",
            "# Clases\n",
            "\t# Atributos\n",
            "\t# Métodos\n",
            "\t# Ciclos\n",
            "\t# Arreglos\n",
            "\n",
            "# Interfaces gráficas\n",
            "\t# Eventos\n",
            "\n",
            "\n",
            "from tkinter import *\n",
            "import random\n",
            "\n",
            "class SieteAfortunado:\n",
            "\n",
            "\tdef __init__(self):\n",
            "\t\tself.crear_interfaz()\n",
            "\n",
            "\tdef crear_interfaz(self):\n",
            "\t\tventana = Tk()\n",
            "\t\tventana.minsize(340,450)\n",
            "\t\tventana.geometry('340x450')\n",
            "\n",
            "\t\tboton = Button(ventana, text=\"Jugar!\", command=self.jugar, font='arial 18 bold')\n",
            "\t\tboton.pack()\n",
            "\n",
            "\t\tfoto = PhotoImage(file=r'dinero.png')\n",
            "\t\tself.gano = Label(ventana,image=foto)\n",
            "\n",
            "\t\tself.campos = [StringVar() for elemento in range(3)]\n",
            "\t\tposicion = 10\n",
            "\t\tfor campo in self.campos:\n",
            "\t\t\tlabel = Label(ventana, textvariable=campo, background='White', foreground='Black', font='arial 42 bold')\n",
            "\t\t\tlabel.place(x=posicion, y=100,width=100, height=100)\n",
            "\t\t\tposicion += 110\n",
            "\n",
            "\t\tmainloop()\n",
            "\n",
            "\tdef generar_numero(self):\n",
            "\t\treturn random.randint(0,9)\n",
            "\n",
            "\tdef jugar(self):\n",
            "\t\thay_siete = False\n",
            "\t\tfor i in range(3):\n",
            "\t\t\tvalor = self.generar_numero()\n",
            "\t\t\tself.campos[i].set(valor)\n",
            "\t\t\tif(valor == 7):\n",
            "\t\t\t\thay_siete = True\n",
            "\n",
            "\t\tif(hay_siete):\n",
            "\t\t\tself.gano.pack(side=BOTTOM)\n",
            "\t\telse:\n",
            "\t\t\tself.gano.pack_forget()\n",
            "\n",
            "\n",
            "jugar = SieteAfortunado()\n"
          ]
        }
      ]
    }
  ]
}
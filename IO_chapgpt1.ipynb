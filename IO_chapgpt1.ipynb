{
  "nbformat": 4,
  "nbformat_minor": 0,
  "metadata": {
    "colab": {
      "provenance": [],
      "authorship_tag": "ABX9TyOuRH+xfw8c/fOHhLWNAVz5",
      "include_colab_link": true
    },
    "kernelspec": {
      "name": "python3",
      "display_name": "Python 3"
    },
    "language_info": {
      "name": "python"
    }
  },
  "cells": [
    {
      "cell_type": "markdown",
      "metadata": {
        "id": "view-in-github",
        "colab_type": "text"
      },
      "source": [
        "<a href=\"https://colab.research.google.com/github/bernaldiaz/bernaldiaz/blob/main/IO_chapgpt1.ipynb\" target=\"_parent\"><img src=\"https://colab.research.google.com/assets/colab-badge.svg\" alt=\"Open In Colab\"/></a>"
      ]
    },
    {
      "cell_type": "code",
      "execution_count": 29,
      "metadata": {
        "colab": {
          "base_uri": "https://localhost:8080/"
        },
        "id": "t_lqKxIkS-pM",
        "outputId": "0db1aa74-b189-4aa3-d7bd-2c54205be68e"
      },
      "outputs": [
        {
          "output_type": "stream",
          "name": "stdout",
          "text": [
            "Valor de x: 7.85714285714286\n",
            "Valor de y: 4.28571428571429\n",
            "Valor de la función objetivo: 28.57142857142859\n"
          ]
        }
      ],
      "source": [
        "# Instalar paquetes necesarios\n",
        "!apt-get install -y -qq glpk-utils\n",
        "!apt-get install -y -qq libglpk-dev\n",
        "!pip install -q pyomo\n",
        "\n",
        "# Importar las bibliotecas necesarias\n",
        "from pyomo.environ import ConcreteModel, Var, Objective, Constraint, SolverFactory, NonNegativeReals\n",
        "\n",
        "# Crear un modelo de Pyomo\n",
        "model = ConcreteModel()\n",
        "\n",
        "# Definir variables de decisión\n",
        "model.x = Var(within=NonNegativeReals)\n",
        "model.y = Var(within=NonNegativeReals)\n",
        "\n",
        "# Definir la función objetivo\n",
        "model.obj = Objective(expr=2*model.x + 3*model.y, sense=1)\n",
        "\n",
        "# Definir restricciones\n",
        "model.con1 = Constraint(expr=model.x >= 0)\n",
        "model.con2 = Constraint(expr=model.y >= 0)\n",
        "model.con3 = Constraint(expr=2*model.x + model.y >= 20)\n",
        "model.con4 = Constraint(expr=4*model.x - 5*model.y <= 10)\n",
        "\n",
        "# Especificar la ruta del solver de GLPK\n",
        "solver_path = '/usr/bin/glpsol'\n",
        "\n",
        "# Resolver el modelo usando GLPK\n",
        "solver = SolverFactory('glpk', executable=solver_path)\n",
        "solver.solve(model)\n",
        "\n",
        "# Mostrar resultados\n",
        "print(\"Valor de x:\", model.x())\n",
        "print(\"Valor de y:\", model.y())\n",
        "print(\"Valor de la función objetivo:\", model.obj())"
      ]
    },
    {
      "cell_type": "code",
      "source": [
        "# Formulando el Modelo para el problema lineal de los perfiles de acero. Aqui comienzo el\n",
        "#nuevo programa del curso de udemy\n"
      ],
      "metadata": {
        "id": "_tDxYJRtXev_"
      },
      "execution_count": 30,
      "outputs": []
    },
    {
      "cell_type": "code",
      "source": [
        "# Formulando el Modelo para el problema lineal de los perfiles de acero\n",
        "# Declarar el modelo\n",
        "# Vamos a declarar un modelo concreto. ¿Cuál es la diferencia entre un modelo concreto y abtracto?\n",
        "# En un modelo abstracto, separas el modelo y los datos.\n",
        "# En un modelo concreto, define los datos dentro del propio modelo.\n",
        "# Por ejemplo, en un script de Pyomo que usa un modelo concreto,\n",
        "# todo se define dentro de un solo archivo de script."
      ],
      "metadata": {
        "id": "42QbuKvAX4tx"
      },
      "execution_count": 31,
      "outputs": []
    },
    {
      "cell_type": "code",
      "source": [
        "modelo = ConcreteModel()"
      ],
      "metadata": {
        "id": "7cYYAWXkYPBx"
      },
      "execution_count": 32,
      "outputs": []
    },
    {
      "cell_type": "code",
      "source": [
        "# Declaramos las variables:\n",
        "# c: 1\n",
        "# h: 2"
      ],
      "metadata": {
        "id": "O4o6_O2KYrKp"
      },
      "execution_count": 5,
      "outputs": []
    },
    {
      "cell_type": "code",
      "source": [
        "modelo.x = Var([1,2], domain = NonNegativeReals)"
      ],
      "metadata": {
        "id": "DWC3X-wKY1U7"
      },
      "execution_count": 33,
      "outputs": []
    },
    {
      "cell_type": "code",
      "source": [
        "# Declaramos la función objetivo"
      ],
      "metadata": {
        "id": "YgN9IUkfZWWY"
      },
      "execution_count": 34,
      "outputs": []
    },
    {
      "cell_type": "code",
      "source": [
        "#objetivo = Objective(expr = 950*modelo.x[1] + 1200*modelo.x[2], sense = -1)"
      ],
      "metadata": {
        "id": "C3BfnMT0Z2J4"
      },
      "execution_count": 35,
      "outputs": []
    },
    {
      "cell_type": "code",
      "source": [
        "modelo.obj = Objective(expr = 950*modelo.x[1] + 1200*modelo.x[2], sense = -1)"
      ],
      "metadata": {
        "id": "HDAtDnCHnq0v"
      },
      "execution_count": 36,
      "outputs": []
    },
    {
      "cell_type": "code",
      "source": [
        "# Declaramos las restricciones"
      ],
      "metadata": {
        "id": "rnDZLAmHa03g"
      },
      "execution_count": null,
      "outputs": []
    },
    {
      "cell_type": "code",
      "source": [
        "modelo.produccion = Constraint(expr = 1.4*modelo.x[1] + 2.8*modelo.x[2] <= 70)"
      ],
      "metadata": {
        "id": "CGyk1Qd5a04i"
      },
      "execution_count": 37,
      "outputs": []
    },
    {
      "cell_type": "code",
      "source": [
        "modelo.carga = Constraint(expr = modelo.x[1] + modelo.x[2] <= 30)"
      ],
      "metadata": {
        "id": "-yAnqAFWba5o"
      },
      "execution_count": 38,
      "outputs": []
    },
    {
      "cell_type": "code",
      "source": [
        "modelo.quimico = Constraint(expr = 3*modelo.x[1] + modelo.x[2] <= 65)"
      ],
      "metadata": {
        "id": "E0FAxjcGbgoq"
      },
      "execution_count": 39,
      "outputs": []
    },
    {
      "cell_type": "code",
      "source": [
        "# Especificar la ruta del solver de GLPK\n",
        "solver_path = '/usr/bin/glpsol'"
      ],
      "metadata": {
        "id": "NdhD9vWMbgp-"
      },
      "execution_count": 40,
      "outputs": []
    },
    {
      "cell_type": "code",
      "source": [
        "# Resolver el modelo usando GLPK\n",
        "solver = SolverFactory('glpk', executable=solver_path)\n",
        "solver.solve(modelo)"
      ],
      "metadata": {
        "colab": {
          "base_uri": "https://localhost:8080/"
        },
        "id": "fERGWfGGb_nf",
        "outputId": "6aa676af-100b-4ac7-d5e5-6e24d5bbc7df"
      },
      "execution_count": 41,
      "outputs": [
        {
          "output_type": "execute_result",
          "data": {
            "text/plain": [
              "{'Problem': [{'Name': 'unknown', 'Lower bound': 33500.0, 'Upper bound': 33500.0, 'Number of objectives': 1, 'Number of constraints': 3, 'Number of variables': 2, 'Number of nonzeros': 6, 'Sense': 'maximize'}], 'Solver': [{'Status': 'ok', 'Termination condition': 'optimal', 'Statistics': {'Branch and bound': {'Number of bounded subproblems': 0, 'Number of created subproblems': 0}}, 'Error rc': 0, 'Time': 0.004138946533203125}], 'Solution': [OrderedDict([('number of solutions', 0), ('number of solutions displayed', 0)])]}"
            ]
          },
          "metadata": {},
          "execution_count": 41
        }
      ]
    },
    {
      "cell_type": "code",
      "source": [
        "# Mostrar resultados\n",
        "#print(\"Valor de x:\", modelo.x())\n",
        "#print(\"Valor de y:\", model.y())\n",
        "print(modelo.produccion())\n",
        "print(modelo.carga())\n",
        "print(modelo.quimico())\n",
        "print(\"Valor de la función objetivo:\", modelo.obj())"
      ],
      "metadata": {
        "colab": {
          "base_uri": "https://localhost:8080/"
        },
        "id": "qJZNKjAncXxQ",
        "outputId": "f8e1d9c2-dce5-46a2-fa39-b50b704938c8"
      },
      "execution_count": 59,
      "outputs": [
        {
          "output_type": "stream",
          "name": "stdout",
          "text": [
            "70.0\n",
            "30.0\n",
            "50.0\n",
            "Valor de la función objetivo: 33500.0\n"
          ]
        }
      ]
    },
    {
      "cell_type": "code",
      "source": [],
      "metadata": {
        "id": "YdKcm7tT40JA"
      },
      "execution_count": null,
      "outputs": []
    },
    {
      "cell_type": "code",
      "source": [
        "print(solver.solve(modelo,modelo.write()))"
      ],
      "metadata": {
        "colab": {
          "base_uri": "https://localhost:8080/"
        },
        "id": "qqpi1rW8vw9F",
        "outputId": "3297a0d2-34f2-492b-d4b7-e6a7cc7fa323"
      },
      "execution_count": 50,
      "outputs": [
        {
          "output_type": "stream",
          "name": "stdout",
          "text": [
            "\n",
            "Problem: \n",
            "- Name: unknown\n",
            "  Lower bound: 33500.0\n",
            "  Upper bound: 33500.0\n",
            "  Number of objectives: 1\n",
            "  Number of constraints: 3\n",
            "  Number of variables: 2\n",
            "  Number of nonzeros: 6\n",
            "  Sense: maximize\n",
            "Solver: \n",
            "- Status: ok\n",
            "  Termination condition: optimal\n",
            "  Statistics: \n",
            "    Branch and bound: \n",
            "      Number of bounded subproblems: 0\n",
            "      Number of created subproblems: 0\n",
            "  Error rc: 0\n",
            "  Time: 0.004675388336181641\n",
            "Solution: \n",
            "- number of solutions: 0\n",
            "  number of solutions displayed: 0\n",
            "\n"
          ]
        }
      ]
    },
    {
      "cell_type": "code",
      "source": [
        "modelo.display()"
      ],
      "metadata": {
        "colab": {
          "base_uri": "https://localhost:8080/"
        },
        "id": "9EH0Uz2643Jb",
        "outputId": "06fd74b1-8ac1-4dfb-ae3e-2f9157f526f1"
      },
      "execution_count": 60,
      "outputs": [
        {
          "output_type": "stream",
          "name": "stdout",
          "text": [
            "Model unknown\n",
            "\n",
            "  Variables:\n",
            "    x : Size=2, Index=x_index\n",
            "        Key : Lower : Value : Upper : Fixed : Stale : Domain\n",
            "          1 :     0 :  10.0 :  None : False : False : NonNegativeReals\n",
            "          2 :     0 :  20.0 :  None : False : False : NonNegativeReals\n",
            "\n",
            "  Objectives:\n",
            "    obj : Size=1, Index=None, Active=True\n",
            "        Key  : Active : Value\n",
            "        None :   True : 33500.0\n",
            "\n",
            "  Constraints:\n",
            "    produccion : Size=1\n",
            "        Key  : Lower : Body : Upper\n",
            "        None :  None : 70.0 :  70.0\n",
            "    carga : Size=1\n",
            "        Key  : Lower : Body : Upper\n",
            "        None :  None : 30.0 :  30.0\n",
            "    quimico : Size=1\n",
            "        Key  : Lower : Body : Upper\n",
            "        None :  None : 50.0 :  65.0\n"
          ]
        }
      ]
    }
  ]
}
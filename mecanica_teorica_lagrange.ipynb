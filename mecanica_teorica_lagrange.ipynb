{
  "nbformat": 4,
  "nbformat_minor": 0,
  "metadata": {
    "colab": {
      "provenance": [],
      "authorship_tag": "ABX9TyPX+mZ2coXi9BixoU41dQ52",
      "include_colab_link": true
    },
    "kernelspec": {
      "name": "python3",
      "display_name": "Python 3"
    },
    "language_info": {
      "name": "python"
    }
  },
  "cells": [
    {
      "cell_type": "markdown",
      "metadata": {
        "id": "view-in-github",
        "colab_type": "text"
      },
      "source": [
        "<a href=\"https://colab.research.google.com/github/bernaldiaz/bernaldiaz/blob/main/mecanica_teorica_lagrange.ipynb\" target=\"_parent\"><img src=\"https://colab.research.google.com/assets/colab-badge.svg\" alt=\"Open In Colab\"/></a>"
      ]
    },
    {
      "cell_type": "code",
      "execution_count": 2,
      "metadata": {
        "colab": {
          "base_uri": "https://localhost:8080/",
          "height": 435
        },
        "id": "n2WHFVq51Yre",
        "outputId": "9c838a7c-9a28-4f9b-f5c8-24ed73aaf9ba"
      },
      "outputs": [
        {
          "output_type": "display_data",
          "data": {
            "text/plain": [
              "<Figure size 640x480 with 1 Axes>"
            ],
            "image/png": "[encoded data removed]"
          },
          "metadata": {}
        }
      ],
      "source": [
        "import numpy as np\n",
        "import matplotlib.pyplot as plt\n",
        "\n",
        "# Parámetros físicos\n",
        "dt = 0.01  # Paso de tiempo\n",
        "r = 1      # Longitud del péndulo\n",
        "g = 10     # Gravedad\n",
        "m = 1      # Masa del péndulo\n",
        "M = 3      # Masa del carro\n",
        "x = 0      # Posición inicial del carro\n",
        "v = 0      # Velocidad inicial del carro\n",
        "a = 0      # Aceleración inicial del carro\n",
        "w = 3      # Velocidad angular inicial del péndulo\n",
        "theta = 0  # Ángulo inicial del péndulo (en radianes)\n",
        "\n",
        "# Configuración de la gráfica\n",
        "fig, ax = plt.subplots()\n",
        "ax.set_xlim([-2, 2])\n",
        "ax.set_ylim([-2, 2])\n",
        "ax.set_aspect('equal')\n",
        "ax.axhline(0, color='red')  # Línea roja en el eje X\n",
        "ax.axvline(0, ymin=-0.03, ymax=0.03, color='blue')  # Línea azul en el eje Y\n",
        "\n",
        "# Bucle principal de simulación\n",
        "for k in range(500):\n",
        "    # Cálculo de la aceleración angular\n",
        "    alfa = -(g / r) * np.sin(theta)  # Aceleración angular del péndulo por gravedad\n",
        "\n",
        "    # Actualización de la velocidad angular y el ángulo\n",
        "    w = w + alfa * dt  # Nueva velocidad angular\n",
        "    theta = theta + w * dt  # Nuevo ángulo\n",
        "\n",
        "    # Posiciones de los puntos\n",
        "    x1, y1 = x, 0  # Posición del pivote\n",
        "    x2 = x + r * np.sin(theta)  # Posición del extremo del péndulo (x)\n",
        "    y2 = -r * np.cos(theta)     # Posición del extremo del péndulo (y)\n",
        "\n",
        "    # Limpiar y actualizar la gráfica\n",
        "    ax.cla()\n",
        "    ax.set_xlim([-2, 2])\n",
        "    ax.set_ylim([-2, 2])\n",
        "    ax.set_aspect('equal')\n",
        "    ax.axhline(0, color='red')  # Línea roja en X\n",
        "    ax.axvline(0, ymin=-0.03, ymax=0.03, color='blue')  # Línea azul en Y\n",
        "    ax.plot([x1, x2], [y1, y2], 'blue')  # Dibujar el brazo\n",
        "    circle = plt.Circle((x2, y2), 0.05, color='black')  # Dibujar el círculo\n",
        "    ax.add_patch(circle)\n",
        "\n",
        "    plt.pause(0.01)\n",
        "\n",
        "plt.show()\n"
      ]
    }
  ]
}
{
  "nbformat": 4,
  "nbformat_minor": 0,
  "metadata": {
    "colab": {
      "provenance": []
    },
    "kernelspec": {
      "name": "python3",
      "display_name": "Python 3"
    },
    "language_info": {
      "name": "python"
    }
  },
  "cells": [
    {
      "cell_type": "code",
      "execution_count": null,
      "metadata": {
        "id": "ZHRnnTEjvmeC"
      },
      "outputs": [],
      "source": []
    },
    {
      "cell_type": "markdown",
      "source": [
        "Voy a practicar con Latex\n",
        "\n",
        "$E = mc^2$\n",
        "\n",
        "$\\mathrm{e}^{i \\pi} - 1 = 0$ \n",
        "\n",
        "The dot product of two $n$-vectors is $\\mathbf{a} \\cdot \\mathbf{b} = \\sum_{i=1}^n a_i b_i$.\n",
        "\n",
        "We can make an equation appear centered on a new line, like\n",
        "\n",
        " \\begin{align}\n",
        " \\mathbf{a} \\cdot \\mathbf{b} = \\sum_{i=1}^n a_i b_i.\n",
        "  \\end{align}\n",
        "\n",
        "\n",
        "\n",
        "The align environment in LaTeX specifies that you want centered equations, separated from the text. It is called align because it allows you to align the equations. You separate lines in the equations with a double backslash (//). Insert an ampersand (&) in each line at the alignment point. All equations will be aligned at the location of the ampersand symbols (and, of course, the ampersands will not appear in the rendered equations).\n",
        "For a three-vector consisting of $x$, $y$, and $z$ components,\n",
        "\n",
        "\n",
        " \\begin{align}\n",
        " \\mathbf{a} \\cdot \\mathbf{b} &= \\sum_{i=1}^n a_i b_i \\\\\n",
        " &= a_x b_x + a_y b_y + a_z b_z\n",
        "  \\end{align}\n",
        "\n",
        "\n",
        "\n",
        "\n"
      ],
      "metadata": {
        "id": "_XmxgTF8voMb"
      }
    },
    {
      "cell_type": "markdown",
      "source": [],
      "metadata": {
        "id": "KaO-1LhGH86n"
      }
    }
  ]
}
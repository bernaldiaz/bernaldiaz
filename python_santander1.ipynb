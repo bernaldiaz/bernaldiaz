{
  "nbformat": 4,
  "nbformat_minor": 0,
  "metadata": {
    "colab": {
      "provenance": [],
      "authorship_tag": "ABX9TyPSd0eGsuPCQA18U8mJjM+5",
      "include_colab_link": true
    },
    "kernelspec": {
      "name": "python3",
      "display_name": "Python 3"
    },
    "language_info": {
      "name": "python"
    }
  },
  "cells": [
    {
      "cell_type": "markdown",
      "metadata": {
        "id": "view-in-github",
        "colab_type": "text"
      },
      "source": [
        "<a href=\"https://colab.research.google.com/github/bernaldiaz/bernaldiaz/blob/main/python_santander1.ipynb\" target=\"_parent\"><img src=\"https://colab.research.google.com/assets/colab-badge.svg\" alt=\"Open In Colab\"/></a>"
      ]
    },
    {
      "cell_type": "code",
      "source": [
        "\"\"\"\n",
        "Esta es una recopilacion del curso de Python\n",
        "del Santander\n",
        "\n",
        "\"\"\""
      ],
      "metadata": {
        "colab": {
          "base_uri": "https://localhost:8080/",
          "height": 35
        },
        "id": "Ph1i3GMkBmz8",
        "outputId": "8c9bb8cc-4fad-4d14-c5f2-5e6bfdea0197"
      },
      "execution_count": 4,
      "outputs": [
        {
          "output_type": "execute_result",
          "data": {
            "text/plain": [
              "'\\nEsta es una recopilacion del curso de Python\\ndel Santander\\n\\n'"
            ],
            "application/vnd.google.colaboratory.intrinsic+json": {
              "type": "string"
            }
          },
          "metadata": {},
          "execution_count": 4
        }
      ]
    },
    {
      "cell_type": "code",
      "source": [
        "# Este es un comentario de una sola línea\n",
        "\n",
        "\"\"\"\n",
        "Este es un comentario\n",
        "de varias líneas\n",
        "\"\"\""
      ],
      "metadata": {
        "id": "gJ5EU7DGAQaQ"
      },
      "execution_count": null,
      "outputs": []
    },
    {
      "cell_type": "code",
      "execution_count": 3,
      "metadata": {
        "id": "HZ99Lmz0_EvS"
      },
      "outputs": [],
      "source": [
        "condition = True\n",
        "\n",
        "if condition:\n",
        "\n",
        "    # Bloque de código si la condición es verdadera\n",
        "\n",
        "    instrucción1 = 3\n",
        "    instrucción2 = 4\n",
        "\n",
        "else:\n",
        "\n",
        "    # Bloque de código si la condición es falsa\n",
        "\n",
        "    instrucción3 = 5\n",
        "    instrucción4 = 6"
      ]
    },
    {
      "cell_type": "code",
      "source": [
        "#Enteros (int)\n",
        "#Los números enteros son aquellos que no tienen parte decimal. En Python,\n",
        "#se representan simplemente escribiendo el número sin comillas ni puntos\n",
        "#decimales. Por ejemplo:\n",
        "\n",
        "edad = 25\n",
        "cantidad = 100\n",
        "\n",
        "#Flotantes (float)\n",
        "#Los números flotantes, también conocidos como números de punto flotante, son\n",
        "#aquellos que tienen una parte decimal. En Python, se representan utilizando\n",
        "#un punto para separar la parte entera de la parte decimal. Por ejemplo:\n",
        "\n",
        "precio = 9.99\n",
        "altura = 1.75\n",
        "\n",
        "#Cadenas de texto (strings)\n",
        "#Las cadenas de texto, o simplemente cadenas, son secuencias de caracteres\n",
        "#encerradas entre comillas simples ('...') o dobles (\"...\"). Se utilizan para\n",
        "#representar texto en Python. Por ejemplo:\n",
        "\n",
        "nombre = \"Juan\"\n",
        "mensaje = '¡Hola, mundo!'\n",
        "# Puedes incluir caracteres especiales en las cadenas utilizando el carácter de\n",
        "# escape \\. Por ejemplo, para incluir comillas dentro de una cadena, puedes\n",
        "# usar \\' o \\\". También puedes utilizar la notación de triple comilla\n",
        "# ('''...''' o \"\"\"...\"\"\") para crear cadenas de varias líneas.\n",
        "\n",
        "#Booleanos\n",
        "# Los valores booleanos representan los valores de verdad: True (verdadero) y\n",
        "# False (falso). Se utilizan comúnmente en expresiones condicionales y\n",
        "#operaciones lógicas. Por ejemplo:\n",
        "\n",
        "es_mayor_de_edad = True\n",
        "tiene_descuento = False\n",
        "\n"
      ],
      "metadata": {
        "id": "P_k-lYxGCUFT"
      },
      "execution_count": 6,
      "outputs": []
    },
    {
      "cell_type": "markdown",
      "source": [
        "Declaración y asignación de variables\n",
        "\n",
        "Las variables son contenedores que nos permiten almacenar y manipular datos en nuestros programas. Para declarar y asignar un valor a una variable en Python, utilizamos el operador de asignación =. El nombre de la variable va a la izquierda del operador, y el valor que deseas asignar va a la derecha. Por ejemplo:\n"
      ],
      "metadata": {
        "id": "u8ZZs_YPEPlr"
      }
    },
    {
      "cell_type": "code",
      "source": [
        "nombre = \"Juan\"\n",
        "edad = 25\n",
        "altura = 1.75\n",
        "es_estudiante = True"
      ],
      "metadata": {
        "id": "g6Ws2L0bEa0W"
      },
      "execution_count": 8,
      "outputs": []
    },
    {
      "cell_type": "markdown",
      "source": [
        "Aritméticos\n",
        "\n",
        "Los operadores aritméticos se utilizan para realizar operaciones matemáticas básicas. Los principales operadores aritméticos en Python son:\n",
        "\n",
        "Suma (+): suma dos valores.\n",
        "\n",
        "Resta (-): resta el segundo valor del primero.\n",
        "\n",
        "Multiplicación (*): multiplica dos valores.\n",
        "\n",
        "División (/): divide el primer valor por el segundo y devuelve un resultado de tipo flotante.\n",
        "\n",
        "División entera (//): divide el primer valor por el segundo y devuelve un resultado de tipo entero (se descarta la parte decimal).\n",
        "\n",
        "Módulo (%): devuelve el resto de la división entre el primer valor y el segundo.\n",
        "\n",
        "Exponenciación (**): eleva el primer valor a la potencia del segundo.\n"
      ],
      "metadata": {
        "id": "BIA5fpSoFwgP"
      }
    },
    {
      "cell_type": "code",
      "source": [
        "a = 10\n",
        "b = 3\n",
        "\n",
        "\n",
        "suma = a + b   # 13\n",
        "resta = a - b    # 7\n",
        "multiplicacion = a * b    # 30\n",
        "division = a / b   # 3.333333333\n",
        "división_entera = a // b   # 3\n",
        "modulo = a % b   # 1\n",
        "exponenciacion = a ** b   # 1000"
      ],
      "metadata": {
        "id": "qpCVEFmiGJWF"
      },
      "execution_count": 9,
      "outputs": []
    },
    {
      "cell_type": "markdown",
      "source": [
        "De comparación\n",
        "\n",
        "Los operadores de comparación se utilizan para comparar dos valores y devuelven un valor booleano (True o False) según el resultado de la comparación. Los operadores de comparación en Python son:\n",
        "\n",
        "Igual a (==): devuelve True si ambos valores son iguales.\n",
        "\n",
        "Diferente de (!=): devuelve True si los valores son diferentes.\n",
        "\n",
        "Mayor que (>): devuelve True si el primer valor es mayor que el segundo.\n",
        "\n",
        "Menor que (<): devuelve True si el primer valor es menor que el segundo.\n",
        "\n",
        "Mayor o igual que (>=): devuelve True si el primer valor es mayor o igual que el segundo.\n",
        "\n",
        "Menor o igual que (<=): devuelve True si el primer valor es menor o igual que el segundo.\n"
      ],
      "metadata": {
        "id": "RTozlz-sGpxU"
      }
    },
    {
      "cell_type": "code",
      "source": [
        "a = 10\n",
        "b = 3\n",
        "\n",
        "\n",
        "igual = a == b   # False\n",
        "diferente = a != b   # True\n",
        "mayor_que = a > b   # True\n",
        "menor_que = a < b   # False\n",
        "mayor_o_igual = a >= b   # True\n",
        "menor_o_igual = a <= b   # False"
      ],
      "metadata": {
        "id": "O4ae3-HmG5YB"
      },
      "execution_count": 11,
      "outputs": []
    },
    {
      "cell_type": "markdown",
      "source": [
        "Lógicos\n",
        "\n",
        "Los operadores lógicos se utilizan para combinar expresiones condicionales y evaluar múltiples condiciones. Los operadores lógicos en Python son:\n",
        "\n",
        "AND (and): devuelve True si ambas condiciones son verdaderas.\n",
        "\n",
        "OR (or): devuelve True si al menos una de las condiciones es verdadera.\n",
        "\n",
        "NOT (not): invierte el valor de una condición, devuelve True si la condición es falsa y False si la condición es verdadera.\n"
      ],
      "metadata": {
        "id": "HNHZT9RGHjCq"
      }
    },
    {
      "cell_type": "code",
      "source": [
        "a = 10\n",
        "b = 3\n",
        "\n",
        "\n",
        "resultado_and = (a > 5) and (b < 5)   # True\n",
        "resultado_or = (a > 15) or (b < 5)   # True\n",
        "resultado_not = not (a > 5)   # False"
      ],
      "metadata": {
        "id": "_1tivOTaHqtB"
      },
      "execution_count": 12,
      "outputs": []
    },
    {
      "cell_type": "markdown",
      "source": [
        "Estructuras condicionales\n",
        "\n",
        "Las estructuras condicionales nos permiten ejecutar diferentes bloques de código según se cumpla o no una determinada condición. En Python, las estructuras condicionales más utilizadas son if, if-else y if-elif-else.\n",
        "\n",
        "IF\n",
        "\n",
        "La estructura if se utiliza para ejecutar un bloque de código si una condición es verdadera. La sintaxis básica es la siguiente:\n",
        "\n",
        "\n",
        "if condicion:\n",
        "\n",
        "  Bloque de código a ejecutar si la condición es verdadera\n",
        "  \n",
        "instrucciones\n",
        "\n",
        "Ejemplo:\n",
        "\n",
        "edad = 18\n",
        "\n",
        "\n",
        "if edad >= 18:\n",
        "\n",
        "   print (\"Eres mayor de edad.\")\n",
        "\n",
        "En este ejemplo, si la variable edad es mayor o igual a 18, se ejecutará el bloque de código dentro del if y se imprimirá el mensaje \"Eres mayor de edad.\""
      ],
      "metadata": {
        "id": "3Yuy_VTvINT3"
      }
    },
    {
      "cell_type": "markdown",
      "source": [
        "IF-ELSE\n",
        "\n",
        "La estructura if-else nos permite especificar un bloque de código alternativo que se ejecutará si la condición del if es falsa. La sintaxis básica es la siguiente:\n",
        "\n",
        "edad = 15\n",
        "\n",
        "\n",
        "if edad >= 18:\n",
        "     print (\"Eres mayor de edad.\")\n",
        "\n",
        "else:\n",
        "       print (\"eres menor de edad.\")\n",
        "\n",
        "En este ejemplo, si la variable edad es mayor o igual a 18, se ejecutará el bloque de código dentro del if y se imprimirá el mensaje \"Eres mayor de edad.\" De lo contrario, se ejecutará el bloque de código dentro del else y se imprimirá el mensaje \"Eres menor de edad.\"\n",
        "\n",
        ""
      ],
      "metadata": {
        "id": "M4YYspruJiJy"
      }
    },
    {
      "cell_type": "markdown",
      "source": [
        "IF-ELIF-ELSE\n",
        "\n",
        "La estructura if-elif-else nos permite especificar múltiples condiciones y bloques de código alternativos. La sintaxis básica es la siguiente:\n",
        "\n",
        "if condicion1:\n",
        "\n",
        "   Bloque de código a ejecutar si la condicion1 es verdadera\n",
        "   instrucciones\n",
        "\n",
        "elif condicion2:\n",
        "\n",
        "   Bloque de código a ejecutar si la condicion2 es verdadera\n",
        "   instrucciones\n",
        "\n",
        "else:\n",
        "\n",
        "   Bloque de código a ejecutar si ninguna condición anterior es verdadera\n",
        "   instrucciones"
      ],
      "metadata": {
        "id": "hnzCgn13MME_"
      }
    },
    {
      "cell_type": "markdown",
      "source": [
        "For\n",
        "\n",
        "El bucle for se utiliza para iterar sobre una secuencia (como una lista, una tupla o una cadena) o cualquier objeto iterable. La sintaxis básica es la siguiente:\n",
        "\n",
        "for variable in secuencia:\n",
        "\n",
        "    # Bloque de código a repetir\n",
        "    instrucciones\n",
        "Ejemplo:\n",
        "\n",
        "frutas = [\"manzana\", \"banana\", \"naranja\"]\n",
        "\n",
        "\n",
        "for fruta in frutas:\n",
        "    print(fruta)\n",
        "En este ejemplo, el bucle for itera sobre la lista frutas. En cada iteración, la variable fruta toma el valor de un elemento de la lista, y se ejecuta el bloque de código dentro del bucle. En este caso, se imprime cada fruta en una línea separada."
      ],
      "metadata": {
        "id": "E7Ti03dpMzwh"
      }
    },
    {
      "cell_type": "markdown",
      "source": [
        "While\n",
        "\n",
        "El bucle while se utiliza para repetir un bloque de código mientras una condición sea verdadera. La sintaxis básica es la siguiente:\n",
        "\n",
        "while condicion:\n",
        "\n",
        "    # Bloque de código a repetir\n",
        "    instrucciones\n",
        "Ejemplo:\n",
        "\n",
        "contador = 0\n",
        "\n",
        "\n",
        "while contador < 5:\n",
        "\n",
        "    print(contador)\n",
        "    contador += 1"
      ],
      "metadata": {
        "id": "CxkN7DfLM_t8"
      }
    },
    {
      "cell_type": "markdown",
      "source": [
        "Break\n",
        "\n",
        "La instrucción break se utiliza para salir prematuramente de un bucle, independientemente de la condición. Cuando se encuentra un break, el bucle se detiene y el flujo de ejecución continúa con la siguiente instrucción fuera del bucle.\n",
        "\n",
        "contador = 0\n",
        "\n",
        "\n",
        "while True:\n",
        "\n",
        "    print(contador)\n",
        "    contador += 1\n",
        "\n",
        "\n",
        "    if contador == 5:\n",
        "        break\n",
        "\n",
        "En este ejemplo, el bucle while se ejecuta indefinidamente debido a la condición True. Sin embargo, dentro del bucle se utiliza una estructura condicional if para verificar si contador es igual a 5. Cuando se cumple esta condición, se ejecuta la instrucción break, lo que hace que el bucle se detenga y el flujo de ejecución continúe con la siguiente instrucción fuera del bucle."
      ],
      "metadata": {
        "id": "i4wF8b0nNPPr"
      }
    },
    {
      "cell_type": "markdown",
      "source": [
        "Continue\n",
        "\n",
        "La instrucción continue se utiliza para saltar el resto del bloque de código dentro de un bucle y pasar a la siguiente iteración.\n",
        "\n",
        "Ejemplo:\n",
        "\n",
        "for i in range(10):\n",
        "\n",
        "    if i % 2 == 0:\n",
        "        continue\n",
        "    print(i)\n",
        "    \n",
        "En este ejemplo, el bucle for itera sobre los números del 0 al 9 utilizando la función range(). Dentro del bucle, se verifica si el número es divisible por 2 utilizando el operador de módulo %. Si el número es divisible por 2 (es decir, si es par), se ejecuta la instrucción continue, lo que hace que se salte el resto del bloque de código y se pase a la siguiente iteración del bucle. Como resultado, solo se imprimirán los números impares.\n",
        "\n",
        ""
      ],
      "metadata": {
        "id": "68SQAxUCNma_"
      }
    },
    {
      "cell_type": "code",
      "source": [
        "for i in range(10):\n",
        "  if i % 2 == 0:\n",
        "    continue\n",
        "  print(i)"
      ],
      "metadata": {
        "colab": {
          "base_uri": "https://localhost:8080/"
        },
        "id": "7Ce_HPeWJGZP",
        "outputId": "34fa6b96-dc1e-452e-8c06-ed47f028f043"
      },
      "execution_count": 13,
      "outputs": [
        {
          "output_type": "stream",
          "name": "stdout",
          "text": [
            "1\n",
            "3\n",
            "5\n",
            "7\n",
            "9\n"
          ]
        }
      ]
    },
    {
      "cell_type": "markdown",
      "source": [
        "Pass\n",
        "\n",
        "La instrucción pass es una operación nula que no hace nada. Se utiliza como marcador de posición cuando se requiere una instrucción sintácticamente, pero no se desea realizar ninguna acción.\n",
        "\n",
        "Ejemplo:\n",
        "\n",
        "for i in range(5):\n",
        "    pass\n",
        "En este ejemplo, el bucle for itera sobre los números del 0 al 4, pero no se realiza ninguna acción dentro del bucle debido a la instrucción pass. Esto puede ser útil cuando se está desarrollando un programa y se desea reservar un bloque de código para implementarlo más adelante.\n",
        "\n"
      ],
      "metadata": {
        "id": "y7DEWHiDO-0A"
      }
    }
  ]
}
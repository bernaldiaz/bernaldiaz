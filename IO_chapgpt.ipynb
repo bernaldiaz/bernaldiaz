{
  "nbformat": 4,
  "nbformat_minor": 0,
  "metadata": {
    "colab": {
      "provenance": [],
      "authorship_tag": "ABX9TyOkVLzz2k4nV0fHYE2EaRla",
      "include_colab_link": true
    },
    "kernelspec": {
      "name": "python3",
      "display_name": "Python 3"
    },
    "language_info": {
      "name": "python"
    }
  },
  "cells": [
    {
      "cell_type": "markdown",
      "metadata": {
        "id": "view-in-github",
        "colab_type": "text"
      },
      "source": [
        "<a href=\"https://colab.research.google.com/github/bernaldiaz/bernaldiaz/blob/main/IO_chapgpt.ipynb\" target=\"_parent\"><img src=\"https://colab.research.google.com/assets/colab-badge.svg\" alt=\"Open In Colab\"/></a>"
      ]
    },
    {
      "cell_type": "code",
      "execution_count": 2,
      "metadata": {
        "colab": {
          "base_uri": "https://localhost:8080/"
        },
        "id": "t_lqKxIkS-pM",
        "outputId": "3bef2959-2063-43f3-dd2e-be1778e83c0e"
      },
      "outputs": [
        {
          "output_type": "stream",
          "name": "stdout",
          "text": [
            "Valor de x: 7.85714285714286\n",
            "Valor de y: 4.28571428571429\n",
            "Valor de la función objetivo: 28.57142857142859\n"
          ]
        }
      ],
      "source": [
        "# Instalar paquetes necesarios\n",
        "!apt-get install -y -qq glpk-utils\n",
        "!apt-get install -y -qq libglpk-dev\n",
        "!pip install -q pyomo\n",
        "\n",
        "# Importar las bibliotecas necesarias\n",
        "from pyomo.environ import ConcreteModel, Var, Objective, Constraint, SolverFactory, NonNegativeReals\n",
        "\n",
        "# Crear un modelo de Pyomo\n",
        "model = ConcreteModel()\n",
        "\n",
        "# Definir variables de decisión\n",
        "model.x = Var(within=NonNegativeReals)\n",
        "model.y = Var(within=NonNegativeReals)\n",
        "\n",
        "# Definir la función objetivo\n",
        "model.obj = Objective(expr=2*model.x + 3*model.y, sense=1)\n",
        "\n",
        "# Definir restricciones\n",
        "model.con1 = Constraint(expr=model.x >= 0)\n",
        "model.con2 = Constraint(expr=model.y >= 0)\n",
        "model.con3 = Constraint(expr=2*model.x + model.y >= 20)\n",
        "model.con4 = Constraint(expr=4*model.x - 5*model.y <= 10)\n",
        "\n",
        "# Especificar la ruta del solver de GLPK\n",
        "solver_path = '/usr/bin/glpsol'\n",
        "\n",
        "# Resolver el modelo usando GLPK\n",
        "solver = SolverFactory('glpk', executable=solver_path)\n",
        "solver.solve(model)\n",
        "\n",
        "# Mostrar resultados\n",
        "print(\"Valor de x:\", model.x())\n",
        "print(\"Valor de y:\", model.y())\n",
        "print(\"Valor de la función objetivo:\", model.obj())"
      ]
    }
  ]
}
{
  "nbformat": 4,
  "nbformat_minor": 0,
  "metadata": {
    "colab": {
      "provenance": []
    },
    "kernelspec": {
      "name": "python3",
      "display_name": "Python 3"
    },
    "language_info": {
      "name": "python"
    }
  },
  "cells": [
    {
      "cell_type": "markdown",
      "source": [
        "Crear una clase Guerrero que sea reciba como atributos:\n",
        "\n",
        "Nombre del guerrero. Vida del guerrero. Ataque del guerrero. Arma.\n",
        "\n",
        "Como métodos deberá tener:\n",
        "\n",
        "str. Atacar. Mejorar arma. (Deberá mejorar la categoría del arma)\n",
        "\n",
        "El atributo Arma será otra clase que tendrá los siguientes atributos:\n",
        "\n",
        "Tipo de arma. Ataque del arma. Categoria del arma.\n",
        "\n",
        "y la clase Arma tendrá los siguientes métodos:\n",
        "\n",
        "str. Mejorar categoría. (Deberá aumentar el daño del arma) Una vez creadas ambas plantillas, deberá crear dos guerreros, uno será John Snow y el otro será un caminante blanco y deberá hacer que John Snow ataqué al caminante blanco."
      ],
      "metadata": {
        "id": "Z99Qok3KdF7Z"
      }
    },
    {
      "cell_type": "code",
      "source": [
        "class Arma():\n",
        "\n",
        "  def __init__(self, tipo: str, ataque: int, categoria:int = 1):\n",
        "    self.tipo = tipo\n",
        "    self.ataque = ataque\n",
        "    self.categoria = categoria\n",
        "\n",
        "  def __str__(self):\n",
        "    return self.tipo\n",
        "\n",
        "  def mejorar_categoria(self):\n",
        "    if self.tipo == 'Espada':\n",
        "      self.categoria += 1\n",
        "      self.ataque += 2\n",
        "\n",
        "    elif self.tipo == 'Mazo':\n",
        "      self.categoria += 1\n",
        "      self.ataque += 3"
      ],
      "metadata": {
        "id": "fIurYSHfcetq"
      },
      "execution_count": 1,
      "outputs": []
    },
    {
      "cell_type": "code",
      "execution_count": 4,
      "metadata": {
        "id": "kh5OJpe4cCNN"
      },
      "outputs": [],
      "source": [
        "class Guerrero():\n",
        "\n",
        "  def __init__(self, nombre: str, vida: int, ataque:int, arma: Arma):\n",
        "    self.nombre = nombre\n",
        "    self.vida = vida\n",
        "    self.ataque = ataque\n",
        "    self.arma = arma\n",
        "\n",
        "  def __str__(self):\n",
        "    return self.nombre\n",
        "\n",
        "  def atacar(self, objeto):\n",
        "    objeto.vida -= self.ataque + self.arma.ataque\n",
        "\n",
        "  def mejorar_arma(self):\n",
        "    self.arma.mejorar_categoria()"
      ]
    },
    {
      "cell_type": "code",
      "source": [
        "espada = Arma('Espada', 15, 1)\n",
        "mazo = Arma('Mazo', 14)\n",
        "\n",
        "john_snow = Guerrero('John Snow', 100, 5, espada)\n",
        "white_walker = Guerrero('Caminante Blanco', 100, 8, mazo)"
      ],
      "metadata": {
        "id": "jhcG9_VbdZVp"
      },
      "execution_count": 5,
      "outputs": []
    },
    {
      "cell_type": "code",
      "source": [
        "print(f'La categoria del arma de {john_snow} es de \\\n",
        "{john_snow.arma.categoria}')\n"
      ],
      "metadata": {
        "colab": {
          "base_uri": "https://localhost:8080/"
        },
        "id": "KbaJKRO1dz7Z",
        "outputId": "8cf14bc6-4ec9-4da0-d51e-dfbe84c089a9"
      },
      "execution_count": 6,
      "outputs": [
        {
          "output_type": "stream",
          "name": "stdout",
          "text": [
            "La categoria del arma de John Snow es de 1\n"
          ]
        }
      ]
    },
    {
      "cell_type": "code",
      "source": [
        "print(f'El arma de {john_snow} es: {john_snow.arma}')"
      ],
      "metadata": {
        "colab": {
          "base_uri": "https://localhost:8080/"
        },
        "id": "SlZ7LPzyeQ6h",
        "outputId": "5edff261-ed28-46b6-f359-616ee4791770"
      },
      "execution_count": 7,
      "outputs": [
        {
          "output_type": "stream",
          "name": "stdout",
          "text": [
            "El arma de John Snow es: Espada\n"
          ]
        }
      ]
    },
    {
      "cell_type": "code",
      "source": [
        "print(f'\\nLa categoria del arma de {white_walker} es de \\\n",
        "{white_walker.arma.categoria}')"
      ],
      "metadata": {
        "colab": {
          "base_uri": "https://localhost:8080/"
        },
        "id": "icAntmRredgJ",
        "outputId": "37194dd7-a8c4-44ea-9205-0f32be150834"
      },
      "execution_count": 8,
      "outputs": [
        {
          "output_type": "stream",
          "name": "stdout",
          "text": [
            "\n",
            "La categoria del arma de Caminante Blanco es de 1\n"
          ]
        }
      ]
    },
    {
      "cell_type": "code",
      "source": [
        "print(f'El arma de {white_walker} es: {white_walker.arma}')\n",
        "\n",
        "print(f'\\nLa vida del 🧟‍♂️{white_walker} es de: {white_walker.vida}')"
      ],
      "metadata": {
        "colab": {
          "base_uri": "https://localhost:8080/"
        },
        "id": "kzs_lBAneu1A",
        "outputId": "bc38722f-4d45-4f35-9c44-2f3c826734b3"
      },
      "execution_count": 9,
      "outputs": [
        {
          "output_type": "stream",
          "name": "stdout",
          "text": [
            "El arma de Caminante Blanco es: Mazo\n",
            "\n",
            "La vida del 🧟‍♂️Caminante Blanco es de: 100\n"
          ]
        }
      ]
    },
    {
      "cell_type": "code",
      "source": [
        "john_snow.atacar(white_walker)\n",
        "\n",
        "print(f'{john_snow} atacó al {white_walker}.')\n",
        "print(f'\\nLa vida del 🧟‍♂️{white_walker} es de: {white_walker.vida}')"
      ],
      "metadata": {
        "colab": {
          "base_uri": "https://localhost:8080/"
        },
        "id": "sRpsqpbYfNNq",
        "outputId": "c609aeef-e1bb-4f9b-ef80-9d4c2808f72d"
      },
      "execution_count": 10,
      "outputs": [
        {
          "output_type": "stream",
          "name": "stdout",
          "text": [
            "John Snow atacó al Caminante Blanco.\n",
            "\n",
            "La vida del 🧟‍♂️Caminante Blanco es de: 80\n"
          ]
        }
      ]
    },
    {
      "cell_type": "code",
      "source": [
        "john_snow.mejorar_arma()\n",
        "john_snow.atacar(white_walker)\n",
        "\n",
        "print(f'{john_snow} atacó al {white_walker}.')\n",
        "print(f'\\nLa vida del 🧟‍♂️{white_walker} es de: {white_walker.vida}')"
      ],
      "metadata": {
        "colab": {
          "base_uri": "https://localhost:8080/"
        },
        "id": "E8B9YjWhfh8A",
        "outputId": "729ac9c6-79fa-419b-c448-ce3e777ab1e1"
      },
      "execution_count": 11,
      "outputs": [
        {
          "output_type": "stream",
          "name": "stdout",
          "text": [
            "John Snow atacó al Caminante Blanco.\n",
            "\n",
            "La vida del 🧟‍♂️Caminante Blanco es de: 58\n"
          ]
        }
      ]
    },
    {
      "cell_type": "code",
      "source": [
        "\n",
        "\n",
        "\n",
        "\n",
        "\n",
        "\n",
        "\n",
        "\n",
        "\n",
        "\n",
        "\n",
        "\n",
        "\n",
        "\n"
      ],
      "metadata": {
        "id": "j7aNtFzzdnYY"
      },
      "execution_count": null,
      "outputs": []
    }
  ]
}